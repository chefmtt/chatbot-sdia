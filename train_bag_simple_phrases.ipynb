{
 "cells": [
  {
   "cell_type": "markdown",
   "source": [
    "Our first approach is to generate, by hand, a simple collections of sentences organised by intents and associated answers.\n",
    "We will then process that data to make it suitable for NLP applications, encode it using \"bag of word\" and train a neural network to predict user intent from an utterance.\n",
    "\n",
    "Then, we wil used pre-trained word embeddings\n",
    "\n",
    "Then, we will generate training data using OpenAI GPT-3 API and train it, using both bag of words and word embeddings\n",
    "We can also try TF-IDF to compare it with the NN."
   ],
   "metadata": {
    "collapsed": false
   }
  },
  {
   "cell_type": "markdown",
   "source": [
    "# Import / Generate data"
   ],
   "metadata": {
    "collapsed": false
   }
  },
  {
   "cell_type": "code",
   "execution_count": 48,
   "outputs": [],
   "source": [
    "import json\n",
    "import pickle\n",
    "import pandas as pd\n",
    "from sklearn import tree, svm, naive_bayes\n",
    "from sklearn.pipeline import Pipeline\n",
    "from sklearn.model_selection import GridSearchCV\n",
    "from sklearn.feature_extraction.text import TfidfVectorizer\n",
    "from pprint import pprint\n",
    "from time import time\n",
    "import numpy as np"
   ],
   "metadata": {
    "collapsed": false
   }
  },
  {
   "cell_type": "code",
   "execution_count": 4,
   "outputs": [],
   "source": [
    "import spacy\n",
    "from spacy.tokens import DocBin\n",
    "nlp = spacy.load(\"en_core_web_lg\")"
   ],
   "metadata": {
    "collapsed": false
   }
  },
  {
   "cell_type": "code",
   "execution_count": 5,
   "outputs": [],
   "source": [
    "data_file = open('intents.json').read()\n",
    "intents = json.loads(data_file)\n",
    "\n",
    "\n",
    "data = []\n",
    "for intent in intents['intents']:\n",
    "    for pattern in intent['patterns']:\n",
    "        data.append([pattern, intent['tag']])\n",
    "\n",
    "df = pd.DataFrame(data, columns=['text','intent'])"
   ],
   "metadata": {
    "collapsed": false
   }
  },
  {
   "cell_type": "code",
   "execution_count": 6,
   "outputs": [
    {
     "data": {
      "text/plain": "                            text            intent\n10                  That's great            thanks\n5                            Bye           goodbye\n3                          Hello          greeting\n14                What are you ?             about\n8                         Thanks            thanks\n21                Can you help ?              help\n12  Perfect, thank you very much            thanks\n6                  See you later           goodbye\n19           Could you help me ?              help\n27      Print 78 pages from doc8  printing_request",
      "text/html": "<div>\n<style scoped>\n    .dataframe tbody tr th:only-of-type {\n        vertical-align: middle;\n    }\n\n    .dataframe tbody tr th {\n        vertical-align: top;\n    }\n\n    .dataframe thead th {\n        text-align: right;\n    }\n</style>\n<table border=\"1\" class=\"dataframe\">\n  <thead>\n    <tr style=\"text-align: right;\">\n      <th></th>\n      <th>text</th>\n      <th>intent</th>\n    </tr>\n  </thead>\n  <tbody>\n    <tr>\n      <th>10</th>\n      <td>That's great</td>\n      <td>thanks</td>\n    </tr>\n    <tr>\n      <th>5</th>\n      <td>Bye</td>\n      <td>goodbye</td>\n    </tr>\n    <tr>\n      <th>3</th>\n      <td>Hello</td>\n      <td>greeting</td>\n    </tr>\n    <tr>\n      <th>14</th>\n      <td>What are you ?</td>\n      <td>about</td>\n    </tr>\n    <tr>\n      <th>8</th>\n      <td>Thanks</td>\n      <td>thanks</td>\n    </tr>\n    <tr>\n      <th>21</th>\n      <td>Can you help ?</td>\n      <td>help</td>\n    </tr>\n    <tr>\n      <th>12</th>\n      <td>Perfect, thank you very much</td>\n      <td>thanks</td>\n    </tr>\n    <tr>\n      <th>6</th>\n      <td>See you later</td>\n      <td>goodbye</td>\n    </tr>\n    <tr>\n      <th>19</th>\n      <td>Could you help me ?</td>\n      <td>help</td>\n    </tr>\n    <tr>\n      <th>27</th>\n      <td>Print 78 pages from doc8</td>\n      <td>printing_request</td>\n    </tr>\n  </tbody>\n</table>\n</div>"
     },
     "execution_count": 6,
     "metadata": {},
     "output_type": "execute_result"
    }
   ],
   "source": [
    "df.sample(10)"
   ],
   "metadata": {
    "collapsed": false
   }
  },
  {
   "cell_type": "markdown",
   "source": [
    "# Data pre-processing"
   ],
   "metadata": {
    "collapsed": false
   }
  },
  {
   "cell_type": "code",
   "execution_count": 57,
   "outputs": [],
   "source": [
    "# Helper function\n",
    "\n",
    "def lemmatize_text(text, preprocessed=False):\n",
    "    if not preprocessed:\n",
    "        text = nlp(text)\n",
    "    lemmatized_texts = [token.lemma_ for token in text\n",
    "                               if not token.is_punct and not token.is_space and not token.like_url and not token.like_email]\n",
    "    return lemmatized_texts"
   ],
   "metadata": {
    "collapsed": false
   }
  },
  {
   "cell_type": "code",
   "execution_count": null,
   "outputs": [],
   "source": [
    "doc_bin = DocBin(attrs=[\"LEMMA\", \"ENT_IOB\", \"ENT_TYPE\"], store_user_data=True)\n",
    "\n",
    "for doc in nlp.pipe(df['text']):\n",
    "    doc_bin.add(doc)\n",
    "\n",
    "# save DocBin to a file on disc\n",
    "file_name_spacy = 'preprocessed_documents.spacy'\n",
    "doc_bin.to_disk(file_name_spacy)"
   ],
   "metadata": {
    "collapsed": false
   }
  },
  {
   "cell_type": "code",
   "execution_count": 9,
   "outputs": [],
   "source": [
    "#Load DocBin at later time or on different system from disc or bytes object\n",
    "file_name_spacy = 'preprocessed_documents.spacy'\n",
    "doc_bin = DocBin().from_disk(file_name_spacy)"
   ],
   "metadata": {
    "collapsed": false
   }
  },
  {
   "cell_type": "code",
   "execution_count": 10,
   "outputs": [
    {
     "name": "stdout",
     "output_type": "stream",
     "text": [
      "31\n",
      "[Hi, Hey, Is anyone there ?, Hello, Good morning !, Bye, See you later, Goodbye, Thanks, Thank you, That's great, Thanks for the help, Perfect, thank you very much, Who are you ?, What are you ?, What is this, What is your name ?, What should I call you ?, What is your name ?, Could you help me ?, Give me a hand please, Can you help ?, What can you do for me ?, I need help, I want to print 46 pages of my_doc, Can you help me get 64 pages of doc4 ?, Get me 6 pages of my_file, Print 78 pages from doc8, I have a complaint, I want to raise a complaint, I am not satisfied]\n"
     ]
    }
   ],
   "source": [
    "docs = list(doc_bin.get_docs(nlp.vocab))\n",
    "print(len(docs))\n",
    "print(docs)"
   ],
   "metadata": {
    "collapsed": false
   }
  },
  {
   "cell_type": "markdown",
   "source": [
    "# Data preparation"
   ],
   "metadata": {
    "collapsed": false
   }
  },
  {
   "cell_type": "code",
   "execution_count": 51,
   "outputs": [],
   "source": [
    "df[\"doc\"] = docs\n",
    "X_train = df[\"doc\"].apply(lemmatize_text, args=(True,)).str.join(\" \")\n",
    "y_train = df[\"intent\"]"
   ],
   "metadata": {
    "collapsed": false
   }
  },
  {
   "cell_type": "code",
   "execution_count": 52,
   "outputs": [
    {
     "data": {
      "text/plain": "0             greeting\n1             greeting\n2             greeting\n3             greeting\n4             greeting\n5              goodbye\n6              goodbye\n7              goodbye\n8               thanks\n9               thanks\n10              thanks\n11              thanks\n12              thanks\n13               about\n14               about\n15               about\n16                name\n17                name\n18                name\n19                help\n20                help\n21                help\n22                help\n23                help\n24    printing_request\n25    printing_request\n26    printing_request\n27    printing_request\n28           complaint\n29           complaint\n30           complaint\nName: intent, dtype: object"
     },
     "execution_count": 52,
     "metadata": {},
     "output_type": "execute_result"
    }
   ],
   "source": [
    "y_train"
   ],
   "metadata": {
    "collapsed": false
   }
  },
  {
   "cell_type": "markdown",
   "source": [
    "# Models preparation"
   ],
   "metadata": {
    "collapsed": false
   }
  },
  {
   "cell_type": "code",
   "execution_count": 49,
   "outputs": [],
   "source": [
    "vect = TfidfVectorizer(ngram_range=(1, 2), lowercase=False, tokenizer=lambda x: x, max_features=3000)\n",
    "\n",
    "# classifiers to use\n",
    "\n",
    "from collections import defaultdict\n",
    "\n",
    "gs_dict = defaultdict(dict)\n",
    "\n",
    "dectree = tree.DecisionTreeClassifier()\n",
    "svm = svm.SVC()\n",
    "multi_nb = naive_bayes.MultinomialNB()\n",
    "\n",
    "gs_dict['dectree']['pipeline'] = Pipeline([\n",
    "    ('vect', vect),\n",
    "    ('dectree', dectree)])\n",
    "gs_dict['svm']['pipeline'] = Pipeline([\n",
    "    ('vect', vect),\n",
    "    ('svm', svm)])\n",
    "gs_dict['multi_nb']['pipeline'] = Pipeline([\n",
    "    ('vect', vect),\n",
    "    ('multi_nb', multi_nb)])\n",
    "\n",
    "gs_dict['dectree']['params'] = {\n",
    "    \"dectree__max_depth\": [4, 10],\n",
    "    \"vect__ngram_range\": ((1, 1), (1, 2), (1,3)),\n",
    "    \"vect__use_idf\": (True, False),\n",
    "}\n",
    "gs_dict['svm']['params'] = {\n",
    "    \"svm__kernel\": [\"linear\", \"rbf\"],\n",
    "    \"vect__ngram_range\": ((1, 1), (1, 2), (1,3)),\n",
    "    \"vect__use_idf\": (True, False),\n",
    "}\n",
    "gs_dict['multi_nb']['params'] = {\n",
    "    \"multi_nb__alpha\": [0.00001, 0.0001, 0.001, 0.1, 1, 10, 100,1000],\n",
    "    \"vect__ngram_range\": ((1, 1), (1, 2), (1,3)),\n",
    "    \"vect__use_idf\": (True, False),\n",
    "}"
   ],
   "metadata": {
    "collapsed": false
   }
  },
  {
   "cell_type": "markdown",
   "source": [
    "# Model Selection"
   ],
   "metadata": {
    "collapsed": false
   }
  },
  {
   "cell_type": "code",
   "execution_count": 53,
   "outputs": [],
   "source": [
    "def perform_grid_search(pipeline, parameters):\n",
    "    gs_clf = GridSearchCV(pipeline, parameters, n_jobs=-1, verbose=3, cv=5)\n",
    "\n",
    "    print(\"\\nPerforming grid search...\")\n",
    "    print(\"pipeline:\", [name for name, _ in pipeline.steps])\n",
    "    print(\"parameters:\")\n",
    "    pprint(parameters)\n",
    "\n",
    "    t0 = time()\n",
    "\n",
    "    gs_clf.fit(X_train, y_train)\n",
    "\n",
    "    print(\"done in %0.3fs\" % (time() - t0))\n",
    "    print()\n",
    "\n",
    "    print(\"Best score: %0.3f\" % gs_clf.best_score_)\n",
    "    print(\"Best parameters set:\")\n",
    "    best_parameters = gs_clf.best_estimator_.get_params()\n",
    "    for param_name in sorted(parameters.keys()):\n",
    "        print(\"\\t%s: %r\" % (param_name, best_parameters[param_name]))\n",
    "    return gs_clf"
   ],
   "metadata": {
    "collapsed": false
   }
  },
  {
   "cell_type": "code",
   "execution_count": null,
   "outputs": [],
   "source": [],
   "metadata": {
    "collapsed": false
   }
  },
  {
   "cell_type": "code",
   "execution_count": 54,
   "outputs": [],
   "source": [
    "def best_estimator_per_clf(gs_dict: defaultdict):\n",
    "    for clf in dict(gs_dict):\n",
    "        gs_dict[clf]['gs'] = perform_grid_search(\n",
    "            gs_dict[clf]['pipeline'],\n",
    "            gs_dict[clf]['params']\n",
    "        )"
   ],
   "metadata": {
    "collapsed": false
   }
  },
  {
   "cell_type": "code",
   "execution_count": 55,
   "outputs": [
    {
     "name": "stdout",
     "output_type": "stream",
     "text": [
      "\n",
      "Performing grid search...\n",
      "pipeline: ['vect', 'dectree']\n",
      "parameters:\n",
      "{'dectree__max_depth': [4, 10],\n",
      " 'vect__ngram_range': ((1, 1), (1, 2), (1, 3)),\n",
      " 'vect__use_idf': (True, False)}\n",
      "Fitting 5 folds for each of 12 candidates, totalling 60 fits\n"
     ]
    },
    {
     "name": "stderr",
     "output_type": "stream",
     "text": [
      "/home/matthieu/miniconda3/envs/chatbot-sdia/lib/python3.9/site-packages/sklearn/model_selection/_split.py:684: UserWarning: The least populated class in y has only 3 members, which is less than n_splits=5.\n",
      "  warnings.warn(\n"
     ]
    },
    {
     "name": "stdout",
     "output_type": "stream",
     "text": [
      "done in 2.013s\n",
      "\n",
      "Best score: 0.576\n",
      "Best parameters set:\n",
      "\tdectree__max_depth: 10\n",
      "\tvect__ngram_range: (1, 3)\n",
      "\tvect__use_idf: True\n",
      "\n",
      "Performing grid search...\n",
      "pipeline: ['vect', 'svm']\n",
      "parameters:\n",
      "{'svm__kernel': ['linear', 'rbf'],\n",
      " 'vect__ngram_range': ((1, 1), (1, 2), (1, 3)),\n",
      " 'vect__use_idf': (True, False)}\n",
      "Fitting 5 folds for each of 12 candidates, totalling 60 fits\n",
      "done in 0.088s\n",
      "\n",
      "Best score: 0.548\n",
      "Best parameters set:\n",
      "\tsvm__kernel: 'linear'\n",
      "\tvect__ngram_range: (1, 3)\n",
      "\tvect__use_idf: True\n",
      "\n",
      "Performing grid search...\n",
      "pipeline: ['vect', 'multi_nb']\n",
      "parameters:\n",
      "{'multi_nb__alpha': [1e-05, 0.0001, 0.001, 0.1, 1, 10, 100, 1000],\n",
      " 'vect__ngram_range': ((1, 1), (1, 2), (1, 3)),\n",
      " 'vect__use_idf': (True, False)}\n",
      "Fitting 5 folds for each of 48 candidates, totalling 240 fits\n"
     ]
    },
    {
     "name": "stderr",
     "output_type": "stream",
     "text": [
      "/home/matthieu/miniconda3/envs/chatbot-sdia/lib/python3.9/site-packages/sklearn/model_selection/_split.py:684: UserWarning: The least populated class in y has only 3 members, which is less than n_splits=5.\n",
      "  warnings.warn(\n",
      "/home/matthieu/miniconda3/envs/chatbot-sdia/lib/python3.9/site-packages/sklearn/model_selection/_split.py:684: UserWarning: The least populated class in y has only 3 members, which is less than n_splits=5.\n",
      "  warnings.warn(\n"
     ]
    },
    {
     "name": "stdout",
     "output_type": "stream",
     "text": [
      "done in 0.269s\n",
      "\n",
      "Best score: 0.610\n",
      "Best parameters set:\n",
      "\tmulti_nb__alpha: 1e-05\n",
      "\tvect__ngram_range: (1, 3)\n",
      "\tvect__use_idf: False\n"
     ]
    }
   ],
   "source": [
    "best_estimator_per_clf(gs_dict)"
   ],
   "metadata": {
    "collapsed": false
   }
  },
  {
   "cell_type": "code",
   "execution_count": 62,
   "outputs": [
    {
     "data": {
      "text/plain": "    mean_fit_time  std_fit_time  mean_score_time  std_score_time  \\\n0        0.003502      0.000441         0.001913        0.000668   \n1        0.003189      0.000284         0.000959        0.000112   \n2        0.003631      0.000764         0.001189        0.000115   \n3        0.003164      0.000533         0.000989        0.000094   \n4        0.005580      0.000489         0.001746        0.000342   \n5        0.004397      0.000454         0.001280        0.000207   \n6        0.003728      0.000189         0.001219        0.000279   \n7        0.002976      0.000171         0.000871        0.000212   \n8        0.004129      0.000805         0.001384        0.000169   \n9        0.003066      0.000466         0.001037        0.000132   \n10       0.004753      0.000556         0.001326        0.000225   \n11       0.004007      0.000630         0.001153        0.000122   \n12       0.003601      0.000197         0.001353        0.000123   \n13       0.002065      0.000458         0.000603        0.000108   \n14       0.003666      0.000489         0.001118        0.000293   \n15       0.002269      0.000164         0.000692        0.000047   \n16       0.004088      0.000849         0.001367        0.000307   \n17       0.003192      0.000632         0.000913        0.000240   \n18       0.003588      0.000692         0.001286        0.000166   \n19       0.002794      0.000075         0.000903        0.000027   \n20       0.004169      0.000822         0.001476        0.000265   \n21       0.003452      0.001129         0.001001        0.000175   \n22       0.005151      0.000414         0.001540        0.000257   \n23       0.003998      0.000855         0.001162        0.000252   \n24       0.003900      0.000264         0.001331        0.000250   \n25       0.002966      0.000133         0.000931        0.000047   \n26       0.004360      0.000298         0.001314        0.000077   \n27       0.003311      0.000444         0.000965        0.000100   \n28       0.004604      0.000971         0.001368        0.000145   \n29       0.003296      0.000680         0.000975        0.000151   \n30       0.002888      0.000353         0.001030        0.000184   \n31       0.002153      0.000368         0.000720        0.000200   \n32       0.004750      0.000672         0.001549        0.000134   \n33       0.003641      0.000199         0.001176        0.000084   \n34       0.005668      0.000496         0.001828        0.000195   \n35       0.004642      0.000281         0.001355        0.000045   \n36       0.004349      0.000448         0.001677        0.000256   \n37       0.002937      0.000250         0.000941        0.000083   \n38       0.004677      0.000122         0.001681        0.000069   \n39       0.003667      0.000175         0.001083        0.000024   \n40       0.005031      0.000826         0.001725        0.000209   \n41       0.004298      0.000214         0.001116        0.000205   \n42       0.003453      0.000549         0.001406        0.000138   \n43       0.002947      0.000224         0.000955        0.000100   \n44       0.004328      0.000480         0.001421        0.000154   \n45       0.003186      0.000276         0.000950        0.000104   \n46       0.004722      0.000649         0.001732        0.000146   \n47       0.004570      0.000136         0.001309        0.000106   \n\n   param_multi_nb__alpha param_vect__ngram_range param_vect__use_idf  \\\n0                0.00001                  (1, 1)                True   \n1                0.00001                  (1, 1)               False   \n2                0.00001                  (1, 2)                True   \n3                0.00001                  (1, 2)               False   \n4                0.00001                  (1, 3)                True   \n5                0.00001                  (1, 3)               False   \n6                 0.0001                  (1, 1)                True   \n7                 0.0001                  (1, 1)               False   \n8                 0.0001                  (1, 2)                True   \n9                 0.0001                  (1, 2)               False   \n10                0.0001                  (1, 3)                True   \n11                0.0001                  (1, 3)               False   \n12                 0.001                  (1, 1)                True   \n13                 0.001                  (1, 1)               False   \n14                 0.001                  (1, 2)                True   \n15                 0.001                  (1, 2)               False   \n16                 0.001                  (1, 3)                True   \n17                 0.001                  (1, 3)               False   \n18                   0.1                  (1, 1)                True   \n19                   0.1                  (1, 1)               False   \n20                   0.1                  (1, 2)                True   \n21                   0.1                  (1, 2)               False   \n22                   0.1                  (1, 3)                True   \n23                   0.1                  (1, 3)               False   \n24                     1                  (1, 1)                True   \n25                     1                  (1, 1)               False   \n26                     1                  (1, 2)                True   \n27                     1                  (1, 2)               False   \n28                     1                  (1, 3)                True   \n29                     1                  (1, 3)               False   \n30                    10                  (1, 1)                True   \n31                    10                  (1, 1)               False   \n32                    10                  (1, 2)                True   \n33                    10                  (1, 2)               False   \n34                    10                  (1, 3)                True   \n35                    10                  (1, 3)               False   \n36                   100                  (1, 1)                True   \n37                   100                  (1, 1)               False   \n38                   100                  (1, 2)                True   \n39                   100                  (1, 2)               False   \n40                   100                  (1, 3)                True   \n41                   100                  (1, 3)               False   \n42                  1000                  (1, 1)                True   \n43                  1000                  (1, 1)               False   \n44                  1000                  (1, 2)                True   \n45                  1000                  (1, 2)               False   \n46                  1000                  (1, 3)                True   \n47                  1000                  (1, 3)               False   \n\n                                               params  split0_test_score  \\\n0   {'multi_nb__alpha': 1e-05, 'vect__ngram_range'...           0.714286   \n1   {'multi_nb__alpha': 1e-05, 'vect__ngram_range'...           0.714286   \n2   {'multi_nb__alpha': 1e-05, 'vect__ngram_range'...           0.714286   \n3   {'multi_nb__alpha': 1e-05, 'vect__ngram_range'...           0.714286   \n4   {'multi_nb__alpha': 1e-05, 'vect__ngram_range'...           0.571429   \n5   {'multi_nb__alpha': 1e-05, 'vect__ngram_range'...           0.714286   \n6   {'multi_nb__alpha': 0.0001, 'vect__ngram_range...           0.714286   \n7   {'multi_nb__alpha': 0.0001, 'vect__ngram_range...           0.714286   \n8   {'multi_nb__alpha': 0.0001, 'vect__ngram_range...           0.714286   \n9   {'multi_nb__alpha': 0.0001, 'vect__ngram_range...           0.714286   \n10  {'multi_nb__alpha': 0.0001, 'vect__ngram_range...           0.714286   \n11  {'multi_nb__alpha': 0.0001, 'vect__ngram_range...           0.714286   \n12  {'multi_nb__alpha': 0.001, 'vect__ngram_range'...           0.571429   \n13  {'multi_nb__alpha': 0.001, 'vect__ngram_range'...           0.714286   \n14  {'multi_nb__alpha': 0.001, 'vect__ngram_range'...           0.714286   \n15  {'multi_nb__alpha': 0.001, 'vect__ngram_range'...           0.714286   \n16  {'multi_nb__alpha': 0.001, 'vect__ngram_range'...           0.714286   \n17  {'multi_nb__alpha': 0.001, 'vect__ngram_range'...           0.714286   \n18  {'multi_nb__alpha': 0.1, 'vect__ngram_range': ...           0.571429   \n19  {'multi_nb__alpha': 0.1, 'vect__ngram_range': ...           0.571429   \n20  {'multi_nb__alpha': 0.1, 'vect__ngram_range': ...           0.714286   \n21  {'multi_nb__alpha': 0.1, 'vect__ngram_range': ...           0.714286   \n22  {'multi_nb__alpha': 0.1, 'vect__ngram_range': ...           0.714286   \n23  {'multi_nb__alpha': 0.1, 'vect__ngram_range': ...           0.857143   \n24  {'multi_nb__alpha': 1, 'vect__ngram_range': (1...           0.428571   \n25  {'multi_nb__alpha': 1, 'vect__ngram_range': (1...           0.428571   \n26  {'multi_nb__alpha': 1, 'vect__ngram_range': (1...           0.571429   \n27  {'multi_nb__alpha': 1, 'vect__ngram_range': (1...           0.571429   \n28  {'multi_nb__alpha': 1, 'vect__ngram_range': (1...           0.571429   \n29  {'multi_nb__alpha': 1, 'vect__ngram_range': (1...           0.571429   \n30  {'multi_nb__alpha': 10, 'vect__ngram_range': (...           0.428571   \n31  {'multi_nb__alpha': 10, 'vect__ngram_range': (...           0.428571   \n32  {'multi_nb__alpha': 10, 'vect__ngram_range': (...           0.428571   \n33  {'multi_nb__alpha': 10, 'vect__ngram_range': (...           0.428571   \n34  {'multi_nb__alpha': 10, 'vect__ngram_range': (...           0.428571   \n35  {'multi_nb__alpha': 10, 'vect__ngram_range': (...           0.428571   \n36  {'multi_nb__alpha': 100, 'vect__ngram_range': ...           0.428571   \n37  {'multi_nb__alpha': 100, 'vect__ngram_range': ...           0.428571   \n38  {'multi_nb__alpha': 100, 'vect__ngram_range': ...           0.428571   \n39  {'multi_nb__alpha': 100, 'vect__ngram_range': ...           0.428571   \n40  {'multi_nb__alpha': 100, 'vect__ngram_range': ...           0.428571   \n41  {'multi_nb__alpha': 100, 'vect__ngram_range': ...           0.428571   \n42  {'multi_nb__alpha': 1000, 'vect__ngram_range':...           0.428571   \n43  {'multi_nb__alpha': 1000, 'vect__ngram_range':...           0.428571   \n44  {'multi_nb__alpha': 1000, 'vect__ngram_range':...           0.428571   \n45  {'multi_nb__alpha': 1000, 'vect__ngram_range':...           0.428571   \n46  {'multi_nb__alpha': 1000, 'vect__ngram_range':...           0.428571   \n47  {'multi_nb__alpha': 1000, 'vect__ngram_range':...           0.428571   \n\n    split1_test_score  split2_test_score  split3_test_score  \\\n0            0.500000           0.333333           0.500000   \n1            0.500000           0.333333           0.500000   \n2            0.666667           0.333333           0.666667   \n3            0.666667           0.333333           0.666667   \n4            0.666667           0.333333           0.666667   \n5            0.666667           0.333333           0.666667   \n6            0.500000           0.333333           0.500000   \n7            0.500000           0.333333           0.500000   \n8            0.666667           0.333333           0.666667   \n9            0.666667           0.333333           0.666667   \n10           0.666667           0.333333           0.666667   \n11           0.666667           0.333333           0.666667   \n12           0.500000           0.333333           0.500000   \n13           0.500000           0.333333           0.500000   \n14           0.666667           0.333333           0.666667   \n15           0.666667           0.333333           0.666667   \n16           0.666667           0.333333           0.666667   \n17           0.500000           0.333333           0.666667   \n18           0.500000           0.333333           0.666667   \n19           0.333333           0.500000           0.333333   \n20           0.333333           0.333333           0.666667   \n21           0.333333           0.333333           0.666667   \n22           0.333333           0.333333           0.666667   \n23           0.333333           0.333333           0.833333   \n24           0.500000           0.333333           0.166667   \n25           0.500000           0.333333           0.166667   \n26           0.333333           0.333333           0.333333   \n27           0.500000           0.333333           0.166667   \n28           0.166667           0.333333           0.333333   \n29           0.500000           0.500000           0.166667   \n30           0.500000           0.333333           0.166667   \n31           0.500000           0.333333           0.166667   \n32           0.333333           0.333333           0.166667   \n33           0.500000           0.333333           0.166667   \n34           0.166667           0.333333           0.333333   \n35           0.500000           0.333333           0.166667   \n36           0.500000           0.333333           0.166667   \n37           0.500000           0.333333           0.166667   \n38           0.333333           0.333333           0.166667   \n39           0.500000           0.333333           0.166667   \n40           0.333333           0.333333           0.333333   \n41           0.500000           0.333333           0.166667   \n42           0.500000           0.333333           0.166667   \n43           0.500000           0.333333           0.166667   \n44           0.333333           0.333333           0.166667   \n45           0.500000           0.333333           0.166667   \n46           0.333333           0.333333           0.333333   \n47           0.500000           0.333333           0.166667   \n\n    split4_test_score  mean_test_score  std_test_score  rank_test_score  \n0            0.333333         0.476190        0.140456               18  \n1            0.333333         0.476190        0.140456               18  \n2            0.500000         0.576190        0.141582                9  \n3            0.500000         0.576190        0.141582                9  \n4            0.666667         0.580952        0.129187                8  \n5            0.666667         0.609524        0.139321                1  \n6            0.333333         0.476190        0.140456               18  \n7            0.333333         0.476190        0.140456               18  \n8            0.666667         0.609524        0.139321                1  \n9            0.500000         0.576190        0.141582                9  \n10           0.666667         0.609524        0.139321                1  \n11           0.666667         0.609524        0.139321                1  \n12           0.333333         0.447619        0.096890               23  \n13           0.333333         0.476190        0.140456               18  \n14           0.666667         0.609524        0.139321                1  \n15           0.666667         0.609524        0.139321                1  \n16           0.666667         0.609524        0.139321                1  \n17           0.666667         0.576190        0.141582                9  \n18           0.500000         0.514286        0.109213               16  \n19           0.500000         0.447619        0.096890               23  \n20           0.666667         0.542857        0.171957               14  \n21           0.500000         0.509524        0.160498               17  \n22           0.666667         0.542857        0.171957               14  \n23           0.500000         0.571429        0.231822               13  \n24           0.333333         0.352381        0.112082               29  \n25           0.333333         0.352381        0.112082               29  \n26           0.500000         0.414286        0.101686               26  \n27           0.500000         0.414286        0.146462               26  \n28           0.500000         0.380952        0.142061               28  \n29           0.500000         0.447619        0.143174               23  \n30           0.333333         0.352381        0.112082               29  \n31           0.166667         0.319048        0.135191               42  \n32           0.333333         0.319048        0.084649               45  \n33           0.333333         0.352381        0.112082               29  \n34           0.333333         0.319048        0.084649               45  \n35           0.333333         0.352381        0.112082               29  \n36           0.333333         0.352381        0.112082               29  \n37           0.166667         0.319048        0.135191               42  \n38           0.333333         0.319048        0.084649               45  \n39           0.333333         0.352381        0.112082               29  \n40           0.333333         0.352381        0.038095               29  \n41           0.333333         0.352381        0.112082               29  \n42           0.333333         0.352381        0.112082               29  \n43           0.166667         0.319048        0.135191               42  \n44           0.333333         0.319048        0.084649               45  \n45           0.333333         0.352381        0.112082               29  \n46           0.333333         0.352381        0.038095               29  \n47           0.333333         0.352381        0.112082               29  ",
      "text/html": "<div>\n<style scoped>\n    .dataframe tbody tr th:only-of-type {\n        vertical-align: middle;\n    }\n\n    .dataframe tbody tr th {\n        vertical-align: top;\n    }\n\n    .dataframe thead th {\n        text-align: right;\n    }\n</style>\n<table border=\"1\" class=\"dataframe\">\n  <thead>\n    <tr style=\"text-align: right;\">\n      <th></th>\n      <th>mean_fit_time</th>\n      <th>std_fit_time</th>\n      <th>mean_score_time</th>\n      <th>std_score_time</th>\n      <th>param_multi_nb__alpha</th>\n      <th>param_vect__ngram_range</th>\n      <th>param_vect__use_idf</th>\n      <th>params</th>\n      <th>split0_test_score</th>\n      <th>split1_test_score</th>\n      <th>split2_test_score</th>\n      <th>split3_test_score</th>\n      <th>split4_test_score</th>\n      <th>mean_test_score</th>\n      <th>std_test_score</th>\n      <th>rank_test_score</th>\n    </tr>\n  </thead>\n  <tbody>\n    <tr>\n      <th>0</th>\n      <td>0.003502</td>\n      <td>0.000441</td>\n      <td>0.001913</td>\n      <td>0.000668</td>\n      <td>0.00001</td>\n      <td>(1, 1)</td>\n      <td>True</td>\n      <td>{'multi_nb__alpha': 1e-05, 'vect__ngram_range'...</td>\n      <td>0.714286</td>\n      <td>0.500000</td>\n      <td>0.333333</td>\n      <td>0.500000</td>\n      <td>0.333333</td>\n      <td>0.476190</td>\n      <td>0.140456</td>\n      <td>18</td>\n    </tr>\n    <tr>\n      <th>1</th>\n      <td>0.003189</td>\n      <td>0.000284</td>\n      <td>0.000959</td>\n      <td>0.000112</td>\n      <td>0.00001</td>\n      <td>(1, 1)</td>\n      <td>False</td>\n      <td>{'multi_nb__alpha': 1e-05, 'vect__ngram_range'...</td>\n      <td>0.714286</td>\n      <td>0.500000</td>\n      <td>0.333333</td>\n      <td>0.500000</td>\n      <td>0.333333</td>\n      <td>0.476190</td>\n      <td>0.140456</td>\n      <td>18</td>\n    </tr>\n    <tr>\n      <th>2</th>\n      <td>0.003631</td>\n      <td>0.000764</td>\n      <td>0.001189</td>\n      <td>0.000115</td>\n      <td>0.00001</td>\n      <td>(1, 2)</td>\n      <td>True</td>\n      <td>{'multi_nb__alpha': 1e-05, 'vect__ngram_range'...</td>\n      <td>0.714286</td>\n      <td>0.666667</td>\n      <td>0.333333</td>\n      <td>0.666667</td>\n      <td>0.500000</td>\n      <td>0.576190</td>\n      <td>0.141582</td>\n      <td>9</td>\n    </tr>\n    <tr>\n      <th>3</th>\n      <td>0.003164</td>\n      <td>0.000533</td>\n      <td>0.000989</td>\n      <td>0.000094</td>\n      <td>0.00001</td>\n      <td>(1, 2)</td>\n      <td>False</td>\n      <td>{'multi_nb__alpha': 1e-05, 'vect__ngram_range'...</td>\n      <td>0.714286</td>\n      <td>0.666667</td>\n      <td>0.333333</td>\n      <td>0.666667</td>\n      <td>0.500000</td>\n      <td>0.576190</td>\n      <td>0.141582</td>\n      <td>9</td>\n    </tr>\n    <tr>\n      <th>4</th>\n      <td>0.005580</td>\n      <td>0.000489</td>\n      <td>0.001746</td>\n      <td>0.000342</td>\n      <td>0.00001</td>\n      <td>(1, 3)</td>\n      <td>True</td>\n      <td>{'multi_nb__alpha': 1e-05, 'vect__ngram_range'...</td>\n      <td>0.571429</td>\n      <td>0.666667</td>\n      <td>0.333333</td>\n      <td>0.666667</td>\n      <td>0.666667</td>\n      <td>0.580952</td>\n      <td>0.129187</td>\n      <td>8</td>\n    </tr>\n    <tr>\n      <th>5</th>\n      <td>0.004397</td>\n      <td>0.000454</td>\n      <td>0.001280</td>\n      <td>0.000207</td>\n      <td>0.00001</td>\n      <td>(1, 3)</td>\n      <td>False</td>\n      <td>{'multi_nb__alpha': 1e-05, 'vect__ngram_range'...</td>\n      <td>0.714286</td>\n      <td>0.666667</td>\n      <td>0.333333</td>\n      <td>0.666667</td>\n      <td>0.666667</td>\n      <td>0.609524</td>\n      <td>0.139321</td>\n      <td>1</td>\n    </tr>\n    <tr>\n      <th>6</th>\n      <td>0.003728</td>\n      <td>0.000189</td>\n      <td>0.001219</td>\n      <td>0.000279</td>\n      <td>0.0001</td>\n      <td>(1, 1)</td>\n      <td>True</td>\n      <td>{'multi_nb__alpha': 0.0001, 'vect__ngram_range...</td>\n      <td>0.714286</td>\n      <td>0.500000</td>\n      <td>0.333333</td>\n      <td>0.500000</td>\n      <td>0.333333</td>\n      <td>0.476190</td>\n      <td>0.140456</td>\n      <td>18</td>\n    </tr>\n    <tr>\n      <th>7</th>\n      <td>0.002976</td>\n      <td>0.000171</td>\n      <td>0.000871</td>\n      <td>0.000212</td>\n      <td>0.0001</td>\n      <td>(1, 1)</td>\n      <td>False</td>\n      <td>{'multi_nb__alpha': 0.0001, 'vect__ngram_range...</td>\n      <td>0.714286</td>\n      <td>0.500000</td>\n      <td>0.333333</td>\n      <td>0.500000</td>\n      <td>0.333333</td>\n      <td>0.476190</td>\n      <td>0.140456</td>\n      <td>18</td>\n    </tr>\n    <tr>\n      <th>8</th>\n      <td>0.004129</td>\n      <td>0.000805</td>\n      <td>0.001384</td>\n      <td>0.000169</td>\n      <td>0.0001</td>\n      <td>(1, 2)</td>\n      <td>True</td>\n      <td>{'multi_nb__alpha': 0.0001, 'vect__ngram_range...</td>\n      <td>0.714286</td>\n      <td>0.666667</td>\n      <td>0.333333</td>\n      <td>0.666667</td>\n      <td>0.666667</td>\n      <td>0.609524</td>\n      <td>0.139321</td>\n      <td>1</td>\n    </tr>\n    <tr>\n      <th>9</th>\n      <td>0.003066</td>\n      <td>0.000466</td>\n      <td>0.001037</td>\n      <td>0.000132</td>\n      <td>0.0001</td>\n      <td>(1, 2)</td>\n      <td>False</td>\n      <td>{'multi_nb__alpha': 0.0001, 'vect__ngram_range...</td>\n      <td>0.714286</td>\n      <td>0.666667</td>\n      <td>0.333333</td>\n      <td>0.666667</td>\n      <td>0.500000</td>\n      <td>0.576190</td>\n      <td>0.141582</td>\n      <td>9</td>\n    </tr>\n    <tr>\n      <th>10</th>\n      <td>0.004753</td>\n      <td>0.000556</td>\n      <td>0.001326</td>\n      <td>0.000225</td>\n      <td>0.0001</td>\n      <td>(1, 3)</td>\n      <td>True</td>\n      <td>{'multi_nb__alpha': 0.0001, 'vect__ngram_range...</td>\n      <td>0.714286</td>\n      <td>0.666667</td>\n      <td>0.333333</td>\n      <td>0.666667</td>\n      <td>0.666667</td>\n      <td>0.609524</td>\n      <td>0.139321</td>\n      <td>1</td>\n    </tr>\n    <tr>\n      <th>11</th>\n      <td>0.004007</td>\n      <td>0.000630</td>\n      <td>0.001153</td>\n      <td>0.000122</td>\n      <td>0.0001</td>\n      <td>(1, 3)</td>\n      <td>False</td>\n      <td>{'multi_nb__alpha': 0.0001, 'vect__ngram_range...</td>\n      <td>0.714286</td>\n      <td>0.666667</td>\n      <td>0.333333</td>\n      <td>0.666667</td>\n      <td>0.666667</td>\n      <td>0.609524</td>\n      <td>0.139321</td>\n      <td>1</td>\n    </tr>\n    <tr>\n      <th>12</th>\n      <td>0.003601</td>\n      <td>0.000197</td>\n      <td>0.001353</td>\n      <td>0.000123</td>\n      <td>0.001</td>\n      <td>(1, 1)</td>\n      <td>True</td>\n      <td>{'multi_nb__alpha': 0.001, 'vect__ngram_range'...</td>\n      <td>0.571429</td>\n      <td>0.500000</td>\n      <td>0.333333</td>\n      <td>0.500000</td>\n      <td>0.333333</td>\n      <td>0.447619</td>\n      <td>0.096890</td>\n      <td>23</td>\n    </tr>\n    <tr>\n      <th>13</th>\n      <td>0.002065</td>\n      <td>0.000458</td>\n      <td>0.000603</td>\n      <td>0.000108</td>\n      <td>0.001</td>\n      <td>(1, 1)</td>\n      <td>False</td>\n      <td>{'multi_nb__alpha': 0.001, 'vect__ngram_range'...</td>\n      <td>0.714286</td>\n      <td>0.500000</td>\n      <td>0.333333</td>\n      <td>0.500000</td>\n      <td>0.333333</td>\n      <td>0.476190</td>\n      <td>0.140456</td>\n      <td>18</td>\n    </tr>\n    <tr>\n      <th>14</th>\n      <td>0.003666</td>\n      <td>0.000489</td>\n      <td>0.001118</td>\n      <td>0.000293</td>\n      <td>0.001</td>\n      <td>(1, 2)</td>\n      <td>True</td>\n      <td>{'multi_nb__alpha': 0.001, 'vect__ngram_range'...</td>\n      <td>0.714286</td>\n      <td>0.666667</td>\n      <td>0.333333</td>\n      <td>0.666667</td>\n      <td>0.666667</td>\n      <td>0.609524</td>\n      <td>0.139321</td>\n      <td>1</td>\n    </tr>\n    <tr>\n      <th>15</th>\n      <td>0.002269</td>\n      <td>0.000164</td>\n      <td>0.000692</td>\n      <td>0.000047</td>\n      <td>0.001</td>\n      <td>(1, 2)</td>\n      <td>False</td>\n      <td>{'multi_nb__alpha': 0.001, 'vect__ngram_range'...</td>\n      <td>0.714286</td>\n      <td>0.666667</td>\n      <td>0.333333</td>\n      <td>0.666667</td>\n      <td>0.666667</td>\n      <td>0.609524</td>\n      <td>0.139321</td>\n      <td>1</td>\n    </tr>\n    <tr>\n      <th>16</th>\n      <td>0.004088</td>\n      <td>0.000849</td>\n      <td>0.001367</td>\n      <td>0.000307</td>\n      <td>0.001</td>\n      <td>(1, 3)</td>\n      <td>True</td>\n      <td>{'multi_nb__alpha': 0.001, 'vect__ngram_range'...</td>\n      <td>0.714286</td>\n      <td>0.666667</td>\n      <td>0.333333</td>\n      <td>0.666667</td>\n      <td>0.666667</td>\n      <td>0.609524</td>\n      <td>0.139321</td>\n      <td>1</td>\n    </tr>\n    <tr>\n      <th>17</th>\n      <td>0.003192</td>\n      <td>0.000632</td>\n      <td>0.000913</td>\n      <td>0.000240</td>\n      <td>0.001</td>\n      <td>(1, 3)</td>\n      <td>False</td>\n      <td>{'multi_nb__alpha': 0.001, 'vect__ngram_range'...</td>\n      <td>0.714286</td>\n      <td>0.500000</td>\n      <td>0.333333</td>\n      <td>0.666667</td>\n      <td>0.666667</td>\n      <td>0.576190</td>\n      <td>0.141582</td>\n      <td>9</td>\n    </tr>\n    <tr>\n      <th>18</th>\n      <td>0.003588</td>\n      <td>0.000692</td>\n      <td>0.001286</td>\n      <td>0.000166</td>\n      <td>0.1</td>\n      <td>(1, 1)</td>\n      <td>True</td>\n      <td>{'multi_nb__alpha': 0.1, 'vect__ngram_range': ...</td>\n      <td>0.571429</td>\n      <td>0.500000</td>\n      <td>0.333333</td>\n      <td>0.666667</td>\n      <td>0.500000</td>\n      <td>0.514286</td>\n      <td>0.109213</td>\n      <td>16</td>\n    </tr>\n    <tr>\n      <th>19</th>\n      <td>0.002794</td>\n      <td>0.000075</td>\n      <td>0.000903</td>\n      <td>0.000027</td>\n      <td>0.1</td>\n      <td>(1, 1)</td>\n      <td>False</td>\n      <td>{'multi_nb__alpha': 0.1, 'vect__ngram_range': ...</td>\n      <td>0.571429</td>\n      <td>0.333333</td>\n      <td>0.500000</td>\n      <td>0.333333</td>\n      <td>0.500000</td>\n      <td>0.447619</td>\n      <td>0.096890</td>\n      <td>23</td>\n    </tr>\n    <tr>\n      <th>20</th>\n      <td>0.004169</td>\n      <td>0.000822</td>\n      <td>0.001476</td>\n      <td>0.000265</td>\n      <td>0.1</td>\n      <td>(1, 2)</td>\n      <td>True</td>\n      <td>{'multi_nb__alpha': 0.1, 'vect__ngram_range': ...</td>\n      <td>0.714286</td>\n      <td>0.333333</td>\n      <td>0.333333</td>\n      <td>0.666667</td>\n      <td>0.666667</td>\n      <td>0.542857</td>\n      <td>0.171957</td>\n      <td>14</td>\n    </tr>\n    <tr>\n      <th>21</th>\n      <td>0.003452</td>\n      <td>0.001129</td>\n      <td>0.001001</td>\n      <td>0.000175</td>\n      <td>0.1</td>\n      <td>(1, 2)</td>\n      <td>False</td>\n      <td>{'multi_nb__alpha': 0.1, 'vect__ngram_range': ...</td>\n      <td>0.714286</td>\n      <td>0.333333</td>\n      <td>0.333333</td>\n      <td>0.666667</td>\n      <td>0.500000</td>\n      <td>0.509524</td>\n      <td>0.160498</td>\n      <td>17</td>\n    </tr>\n    <tr>\n      <th>22</th>\n      <td>0.005151</td>\n      <td>0.000414</td>\n      <td>0.001540</td>\n      <td>0.000257</td>\n      <td>0.1</td>\n      <td>(1, 3)</td>\n      <td>True</td>\n      <td>{'multi_nb__alpha': 0.1, 'vect__ngram_range': ...</td>\n      <td>0.714286</td>\n      <td>0.333333</td>\n      <td>0.333333</td>\n      <td>0.666667</td>\n      <td>0.666667</td>\n      <td>0.542857</td>\n      <td>0.171957</td>\n      <td>14</td>\n    </tr>\n    <tr>\n      <th>23</th>\n      <td>0.003998</td>\n      <td>0.000855</td>\n      <td>0.001162</td>\n      <td>0.000252</td>\n      <td>0.1</td>\n      <td>(1, 3)</td>\n      <td>False</td>\n      <td>{'multi_nb__alpha': 0.1, 'vect__ngram_range': ...</td>\n      <td>0.857143</td>\n      <td>0.333333</td>\n      <td>0.333333</td>\n      <td>0.833333</td>\n      <td>0.500000</td>\n      <td>0.571429</td>\n      <td>0.231822</td>\n      <td>13</td>\n    </tr>\n    <tr>\n      <th>24</th>\n      <td>0.003900</td>\n      <td>0.000264</td>\n      <td>0.001331</td>\n      <td>0.000250</td>\n      <td>1</td>\n      <td>(1, 1)</td>\n      <td>True</td>\n      <td>{'multi_nb__alpha': 1, 'vect__ngram_range': (1...</td>\n      <td>0.428571</td>\n      <td>0.500000</td>\n      <td>0.333333</td>\n      <td>0.166667</td>\n      <td>0.333333</td>\n      <td>0.352381</td>\n      <td>0.112082</td>\n      <td>29</td>\n    </tr>\n    <tr>\n      <th>25</th>\n      <td>0.002966</td>\n      <td>0.000133</td>\n      <td>0.000931</td>\n      <td>0.000047</td>\n      <td>1</td>\n      <td>(1, 1)</td>\n      <td>False</td>\n      <td>{'multi_nb__alpha': 1, 'vect__ngram_range': (1...</td>\n      <td>0.428571</td>\n      <td>0.500000</td>\n      <td>0.333333</td>\n      <td>0.166667</td>\n      <td>0.333333</td>\n      <td>0.352381</td>\n      <td>0.112082</td>\n      <td>29</td>\n    </tr>\n    <tr>\n      <th>26</th>\n      <td>0.004360</td>\n      <td>0.000298</td>\n      <td>0.001314</td>\n      <td>0.000077</td>\n      <td>1</td>\n      <td>(1, 2)</td>\n      <td>True</td>\n      <td>{'multi_nb__alpha': 1, 'vect__ngram_range': (1...</td>\n      <td>0.571429</td>\n      <td>0.333333</td>\n      <td>0.333333</td>\n      <td>0.333333</td>\n      <td>0.500000</td>\n      <td>0.414286</td>\n      <td>0.101686</td>\n      <td>26</td>\n    </tr>\n    <tr>\n      <th>27</th>\n      <td>0.003311</td>\n      <td>0.000444</td>\n      <td>0.000965</td>\n      <td>0.000100</td>\n      <td>1</td>\n      <td>(1, 2)</td>\n      <td>False</td>\n      <td>{'multi_nb__alpha': 1, 'vect__ngram_range': (1...</td>\n      <td>0.571429</td>\n      <td>0.500000</td>\n      <td>0.333333</td>\n      <td>0.166667</td>\n      <td>0.500000</td>\n      <td>0.414286</td>\n      <td>0.146462</td>\n      <td>26</td>\n    </tr>\n    <tr>\n      <th>28</th>\n      <td>0.004604</td>\n      <td>0.000971</td>\n      <td>0.001368</td>\n      <td>0.000145</td>\n      <td>1</td>\n      <td>(1, 3)</td>\n      <td>True</td>\n      <td>{'multi_nb__alpha': 1, 'vect__ngram_range': (1...</td>\n      <td>0.571429</td>\n      <td>0.166667</td>\n      <td>0.333333</td>\n      <td>0.333333</td>\n      <td>0.500000</td>\n      <td>0.380952</td>\n      <td>0.142061</td>\n      <td>28</td>\n    </tr>\n    <tr>\n      <th>29</th>\n      <td>0.003296</td>\n      <td>0.000680</td>\n      <td>0.000975</td>\n      <td>0.000151</td>\n      <td>1</td>\n      <td>(1, 3)</td>\n      <td>False</td>\n      <td>{'multi_nb__alpha': 1, 'vect__ngram_range': (1...</td>\n      <td>0.571429</td>\n      <td>0.500000</td>\n      <td>0.500000</td>\n      <td>0.166667</td>\n      <td>0.500000</td>\n      <td>0.447619</td>\n      <td>0.143174</td>\n      <td>23</td>\n    </tr>\n    <tr>\n      <th>30</th>\n      <td>0.002888</td>\n      <td>0.000353</td>\n      <td>0.001030</td>\n      <td>0.000184</td>\n      <td>10</td>\n      <td>(1, 1)</td>\n      <td>True</td>\n      <td>{'multi_nb__alpha': 10, 'vect__ngram_range': (...</td>\n      <td>0.428571</td>\n      <td>0.500000</td>\n      <td>0.333333</td>\n      <td>0.166667</td>\n      <td>0.333333</td>\n      <td>0.352381</td>\n      <td>0.112082</td>\n      <td>29</td>\n    </tr>\n    <tr>\n      <th>31</th>\n      <td>0.002153</td>\n      <td>0.000368</td>\n      <td>0.000720</td>\n      <td>0.000200</td>\n      <td>10</td>\n      <td>(1, 1)</td>\n      <td>False</td>\n      <td>{'multi_nb__alpha': 10, 'vect__ngram_range': (...</td>\n      <td>0.428571</td>\n      <td>0.500000</td>\n      <td>0.333333</td>\n      <td>0.166667</td>\n      <td>0.166667</td>\n      <td>0.319048</td>\n      <td>0.135191</td>\n      <td>42</td>\n    </tr>\n    <tr>\n      <th>32</th>\n      <td>0.004750</td>\n      <td>0.000672</td>\n      <td>0.001549</td>\n      <td>0.000134</td>\n      <td>10</td>\n      <td>(1, 2)</td>\n      <td>True</td>\n      <td>{'multi_nb__alpha': 10, 'vect__ngram_range': (...</td>\n      <td>0.428571</td>\n      <td>0.333333</td>\n      <td>0.333333</td>\n      <td>0.166667</td>\n      <td>0.333333</td>\n      <td>0.319048</td>\n      <td>0.084649</td>\n      <td>45</td>\n    </tr>\n    <tr>\n      <th>33</th>\n      <td>0.003641</td>\n      <td>0.000199</td>\n      <td>0.001176</td>\n      <td>0.000084</td>\n      <td>10</td>\n      <td>(1, 2)</td>\n      <td>False</td>\n      <td>{'multi_nb__alpha': 10, 'vect__ngram_range': (...</td>\n      <td>0.428571</td>\n      <td>0.500000</td>\n      <td>0.333333</td>\n      <td>0.166667</td>\n      <td>0.333333</td>\n      <td>0.352381</td>\n      <td>0.112082</td>\n      <td>29</td>\n    </tr>\n    <tr>\n      <th>34</th>\n      <td>0.005668</td>\n      <td>0.000496</td>\n      <td>0.001828</td>\n      <td>0.000195</td>\n      <td>10</td>\n      <td>(1, 3)</td>\n      <td>True</td>\n      <td>{'multi_nb__alpha': 10, 'vect__ngram_range': (...</td>\n      <td>0.428571</td>\n      <td>0.166667</td>\n      <td>0.333333</td>\n      <td>0.333333</td>\n      <td>0.333333</td>\n      <td>0.319048</td>\n      <td>0.084649</td>\n      <td>45</td>\n    </tr>\n    <tr>\n      <th>35</th>\n      <td>0.004642</td>\n      <td>0.000281</td>\n      <td>0.001355</td>\n      <td>0.000045</td>\n      <td>10</td>\n      <td>(1, 3)</td>\n      <td>False</td>\n      <td>{'multi_nb__alpha': 10, 'vect__ngram_range': (...</td>\n      <td>0.428571</td>\n      <td>0.500000</td>\n      <td>0.333333</td>\n      <td>0.166667</td>\n      <td>0.333333</td>\n      <td>0.352381</td>\n      <td>0.112082</td>\n      <td>29</td>\n    </tr>\n    <tr>\n      <th>36</th>\n      <td>0.004349</td>\n      <td>0.000448</td>\n      <td>0.001677</td>\n      <td>0.000256</td>\n      <td>100</td>\n      <td>(1, 1)</td>\n      <td>True</td>\n      <td>{'multi_nb__alpha': 100, 'vect__ngram_range': ...</td>\n      <td>0.428571</td>\n      <td>0.500000</td>\n      <td>0.333333</td>\n      <td>0.166667</td>\n      <td>0.333333</td>\n      <td>0.352381</td>\n      <td>0.112082</td>\n      <td>29</td>\n    </tr>\n    <tr>\n      <th>37</th>\n      <td>0.002937</td>\n      <td>0.000250</td>\n      <td>0.000941</td>\n      <td>0.000083</td>\n      <td>100</td>\n      <td>(1, 1)</td>\n      <td>False</td>\n      <td>{'multi_nb__alpha': 100, 'vect__ngram_range': ...</td>\n      <td>0.428571</td>\n      <td>0.500000</td>\n      <td>0.333333</td>\n      <td>0.166667</td>\n      <td>0.166667</td>\n      <td>0.319048</td>\n      <td>0.135191</td>\n      <td>42</td>\n    </tr>\n    <tr>\n      <th>38</th>\n      <td>0.004677</td>\n      <td>0.000122</td>\n      <td>0.001681</td>\n      <td>0.000069</td>\n      <td>100</td>\n      <td>(1, 2)</td>\n      <td>True</td>\n      <td>{'multi_nb__alpha': 100, 'vect__ngram_range': ...</td>\n      <td>0.428571</td>\n      <td>0.333333</td>\n      <td>0.333333</td>\n      <td>0.166667</td>\n      <td>0.333333</td>\n      <td>0.319048</td>\n      <td>0.084649</td>\n      <td>45</td>\n    </tr>\n    <tr>\n      <th>39</th>\n      <td>0.003667</td>\n      <td>0.000175</td>\n      <td>0.001083</td>\n      <td>0.000024</td>\n      <td>100</td>\n      <td>(1, 2)</td>\n      <td>False</td>\n      <td>{'multi_nb__alpha': 100, 'vect__ngram_range': ...</td>\n      <td>0.428571</td>\n      <td>0.500000</td>\n      <td>0.333333</td>\n      <td>0.166667</td>\n      <td>0.333333</td>\n      <td>0.352381</td>\n      <td>0.112082</td>\n      <td>29</td>\n    </tr>\n    <tr>\n      <th>40</th>\n      <td>0.005031</td>\n      <td>0.000826</td>\n      <td>0.001725</td>\n      <td>0.000209</td>\n      <td>100</td>\n      <td>(1, 3)</td>\n      <td>True</td>\n      <td>{'multi_nb__alpha': 100, 'vect__ngram_range': ...</td>\n      <td>0.428571</td>\n      <td>0.333333</td>\n      <td>0.333333</td>\n      <td>0.333333</td>\n      <td>0.333333</td>\n      <td>0.352381</td>\n      <td>0.038095</td>\n      <td>29</td>\n    </tr>\n    <tr>\n      <th>41</th>\n      <td>0.004298</td>\n      <td>0.000214</td>\n      <td>0.001116</td>\n      <td>0.000205</td>\n      <td>100</td>\n      <td>(1, 3)</td>\n      <td>False</td>\n      <td>{'multi_nb__alpha': 100, 'vect__ngram_range': ...</td>\n      <td>0.428571</td>\n      <td>0.500000</td>\n      <td>0.333333</td>\n      <td>0.166667</td>\n      <td>0.333333</td>\n      <td>0.352381</td>\n      <td>0.112082</td>\n      <td>29</td>\n    </tr>\n    <tr>\n      <th>42</th>\n      <td>0.003453</td>\n      <td>0.000549</td>\n      <td>0.001406</td>\n      <td>0.000138</td>\n      <td>1000</td>\n      <td>(1, 1)</td>\n      <td>True</td>\n      <td>{'multi_nb__alpha': 1000, 'vect__ngram_range':...</td>\n      <td>0.428571</td>\n      <td>0.500000</td>\n      <td>0.333333</td>\n      <td>0.166667</td>\n      <td>0.333333</td>\n      <td>0.352381</td>\n      <td>0.112082</td>\n      <td>29</td>\n    </tr>\n    <tr>\n      <th>43</th>\n      <td>0.002947</td>\n      <td>0.000224</td>\n      <td>0.000955</td>\n      <td>0.000100</td>\n      <td>1000</td>\n      <td>(1, 1)</td>\n      <td>False</td>\n      <td>{'multi_nb__alpha': 1000, 'vect__ngram_range':...</td>\n      <td>0.428571</td>\n      <td>0.500000</td>\n      <td>0.333333</td>\n      <td>0.166667</td>\n      <td>0.166667</td>\n      <td>0.319048</td>\n      <td>0.135191</td>\n      <td>42</td>\n    </tr>\n    <tr>\n      <th>44</th>\n      <td>0.004328</td>\n      <td>0.000480</td>\n      <td>0.001421</td>\n      <td>0.000154</td>\n      <td>1000</td>\n      <td>(1, 2)</td>\n      <td>True</td>\n      <td>{'multi_nb__alpha': 1000, 'vect__ngram_range':...</td>\n      <td>0.428571</td>\n      <td>0.333333</td>\n      <td>0.333333</td>\n      <td>0.166667</td>\n      <td>0.333333</td>\n      <td>0.319048</td>\n      <td>0.084649</td>\n      <td>45</td>\n    </tr>\n    <tr>\n      <th>45</th>\n      <td>0.003186</td>\n      <td>0.000276</td>\n      <td>0.000950</td>\n      <td>0.000104</td>\n      <td>1000</td>\n      <td>(1, 2)</td>\n      <td>False</td>\n      <td>{'multi_nb__alpha': 1000, 'vect__ngram_range':...</td>\n      <td>0.428571</td>\n      <td>0.500000</td>\n      <td>0.333333</td>\n      <td>0.166667</td>\n      <td>0.333333</td>\n      <td>0.352381</td>\n      <td>0.112082</td>\n      <td>29</td>\n    </tr>\n    <tr>\n      <th>46</th>\n      <td>0.004722</td>\n      <td>0.000649</td>\n      <td>0.001732</td>\n      <td>0.000146</td>\n      <td>1000</td>\n      <td>(1, 3)</td>\n      <td>True</td>\n      <td>{'multi_nb__alpha': 1000, 'vect__ngram_range':...</td>\n      <td>0.428571</td>\n      <td>0.333333</td>\n      <td>0.333333</td>\n      <td>0.333333</td>\n      <td>0.333333</td>\n      <td>0.352381</td>\n      <td>0.038095</td>\n      <td>29</td>\n    </tr>\n    <tr>\n      <th>47</th>\n      <td>0.004570</td>\n      <td>0.000136</td>\n      <td>0.001309</td>\n      <td>0.000106</td>\n      <td>1000</td>\n      <td>(1, 3)</td>\n      <td>False</td>\n      <td>{'multi_nb__alpha': 1000, 'vect__ngram_range':...</td>\n      <td>0.428571</td>\n      <td>0.500000</td>\n      <td>0.333333</td>\n      <td>0.166667</td>\n      <td>0.333333</td>\n      <td>0.352381</td>\n      <td>0.112082</td>\n      <td>29</td>\n    </tr>\n  </tbody>\n</table>\n</div>"
     },
     "execution_count": 62,
     "metadata": {},
     "output_type": "execute_result"
    }
   ],
   "source": [
    "df_result = pd.DataFrame(gs_dict['multi_nb']['gs'].cv_results_)\n",
    "df_result"
   ],
   "metadata": {
    "collapsed": false
   }
  },
  {
   "cell_type": "code",
   "execution_count": 70,
   "outputs": [
    {
     "data": {
      "text/plain": "'I want to print'"
     },
     "execution_count": 70,
     "metadata": {},
     "output_type": "execute_result"
    }
   ],
   "source": [
    "import string\n",
    "\n",
    "test = lemmatize_text(\"I want to print\")\n",
    "test = \" \".join(test)\n",
    "test"
   ],
   "metadata": {
    "collapsed": false
   }
  },
  {
   "cell_type": "code",
   "execution_count": 71,
   "outputs": [
    {
     "data": {
      "text/plain": "array(['printing_request'], dtype='<U16')"
     },
     "execution_count": 71,
     "metadata": {},
     "output_type": "execute_result"
    }
   ],
   "source": [
    "predict = gs_dict['multi_nb']['gs'].predict([test])\n",
    "predict"
   ],
   "metadata": {
    "collapsed": false
   }
  },
  {
   "cell_type": "code",
   "execution_count": null,
   "outputs": [],
   "source": [
    "classes = df[\"intent\"].unique()\n",
    "words = set() # change words to vocab"
   ],
   "metadata": {
    "collapsed": false
   }
  },
  {
   "cell_type": "code",
   "execution_count": null,
   "outputs": [],
   "source": [
    "pickle.dump(words, open('words.pkl', 'wb'))\n",
    "pickle.dump(classes, open('classes.pkl', 'wb'))"
   ],
   "metadata": {
    "collapsed": false
   }
  },
  {
   "cell_type": "code",
   "execution_count": null,
   "outputs": [],
   "source": [
    "documents = pickle.load(open('words.pkl', 'rb'))\n",
    "classes = pickle.load(open('classes.pkl', 'rb'))"
   ],
   "metadata": {
    "collapsed": false
   }
  },
  {
   "cell_type": "markdown",
   "source": [
    "# Model evaluation"
   ],
   "metadata": {
    "collapsed": false
   }
  },
  {
   "cell_type": "code",
   "execution_count": null,
   "outputs": [],
   "source": [],
   "metadata": {
    "collapsed": false
   }
  }
 ],
 "metadata": {
  "kernelspec": {
   "display_name": "Python 3",
   "language": "python",
   "name": "python3"
  },
  "language_info": {
   "codemirror_mode": {
    "name": "ipython",
    "version": 2
   },
   "file_extension": ".py",
   "mimetype": "text/x-python",
   "name": "python",
   "nbconvert_exporter": "python",
   "pygments_lexer": "ipython2",
   "version": "2.7.6"
  }
 },
 "nbformat": 4,
 "nbformat_minor": 0
}
