{
 "cells": [
  {
   "cell_type": "markdown",
   "source": [
    "Our first approach is to generate, by hand, a simple collections of sentences organised by intents and associated answers.\n",
    "We will then process that data to make it suitable for NLP applications, encode it using \"bag of word\" and train a neural network to predict user intent from an utterance.\n",
    "\n",
    "Then, we wil used pre-trained word embeddings\n",
    "\n",
    "Then, we will generate training data using OpenAI GPT-3 API and train it, using both bag of words and word embeddings\n",
    "We can also try TF-IDF to compare it with the NN."
   ],
   "metadata": {
    "collapsed": false
   }
  },
  {
   "cell_type": "markdown",
   "source": [
    "A chatbot needs to understand intents in users' utterances. For this purpose, we train a classifier."
   ],
   "metadata": {
    "collapsed": false
   }
  },
  {
   "cell_type": "markdown",
   "source": [
    "I use the IMDB review dataset for basic testing"
   ],
   "metadata": {
    "collapsed": false
   }
  },
  {
   "cell_type": "markdown",
   "source": [
    "# Import / Generate data\n",
    "\n",
    "In this section, we import our dataset, made of hand-crafted sentences and the corresponding intent."
   ],
   "metadata": {
    "collapsed": false
   }
  },
  {
   "cell_type": "code",
   "execution_count": 1,
   "outputs": [],
   "source": [
    "import json\n",
    "\n",
    "import numpy as np\n",
    "import pandas as pd\n",
    "from sklearn import tree, svm, naive_bayes\n",
    "from sklearn.ensemble import GradientBoostingClassifier\n",
    "from sklearn.ensemble import RandomForestClassifier\n",
    "from sklearn.linear_model import LogisticRegression\n",
    "from sklearn.pipeline import Pipeline\n",
    "import sklearn.metrics\n",
    "from sklearn.model_selection import train_test_split\n",
    "from sklearn.model_selection import GridSearchCV\n",
    "from sklearn.feature_extraction.text import TfidfVectorizer\n",
    "from pprint import pprint\n",
    "from time import time\n",
    "from collections import defaultdict\n",
    "import spacy\n",
    "from spacy.tokens import DocBin\n",
    "nlp = spacy.load(\"en_core_web_lg\")"
   ],
   "metadata": {
    "collapsed": false
   }
  },
  {
   "cell_type": "code",
   "execution_count": 2,
   "outputs": [],
   "source": [
    "data_file = open('intents.json').read()\n",
    "intents = json.loads(data_file)\n",
    "\n",
    "\n",
    "data = []\n",
    "for intent in intents['intents']:\n",
    "    for pattern in intent['patterns']:\n",
    "        data.append([pattern, intent['tag']])\n",
    "\n",
    "df_json = pd.DataFrame(data, columns=['text','intent'])"
   ],
   "metadata": {
    "collapsed": false
   }
  },
  {
   "cell_type": "code",
   "execution_count": 3,
   "outputs": [],
   "source": [
    "df_csv = pd.read_csv(\"sentences/full.csv\")"
   ],
   "metadata": {
    "collapsed": false
   }
  },
  {
   "cell_type": "code",
   "execution_count": 4,
   "outputs": [
    {
     "data": {
      "text/plain": "                               text     intent\n0                                Hi   greeting\n1                               Hey   greeting\n2                 Is anyone there ?   greeting\n3                             Hello   greeting\n4                    Good morning !   greeting\n..                              ...        ...\n240        Thank you for your care.  gratitude\n241  Thank you for being my friend.  gratitude\n242       Thank you for everything.  gratitude\n243               You are the best!  gratitude\n244        I really appreciate you!  gratitude\n\n[277 rows x 2 columns]",
      "text/html": "<div>\n<style scoped>\n    .dataframe tbody tr th:only-of-type {\n        vertical-align: middle;\n    }\n\n    .dataframe tbody tr th {\n        vertical-align: top;\n    }\n\n    .dataframe thead th {\n        text-align: right;\n    }\n</style>\n<table border=\"1\" class=\"dataframe\">\n  <thead>\n    <tr style=\"text-align: right;\">\n      <th></th>\n      <th>text</th>\n      <th>intent</th>\n    </tr>\n  </thead>\n  <tbody>\n    <tr>\n      <th>0</th>\n      <td>Hi</td>\n      <td>greeting</td>\n    </tr>\n    <tr>\n      <th>1</th>\n      <td>Hey</td>\n      <td>greeting</td>\n    </tr>\n    <tr>\n      <th>2</th>\n      <td>Is anyone there ?</td>\n      <td>greeting</td>\n    </tr>\n    <tr>\n      <th>3</th>\n      <td>Hello</td>\n      <td>greeting</td>\n    </tr>\n    <tr>\n      <th>4</th>\n      <td>Good morning !</td>\n      <td>greeting</td>\n    </tr>\n    <tr>\n      <th>...</th>\n      <td>...</td>\n      <td>...</td>\n    </tr>\n    <tr>\n      <th>240</th>\n      <td>Thank you for your care.</td>\n      <td>gratitude</td>\n    </tr>\n    <tr>\n      <th>241</th>\n      <td>Thank you for being my friend.</td>\n      <td>gratitude</td>\n    </tr>\n    <tr>\n      <th>242</th>\n      <td>Thank you for everything.</td>\n      <td>gratitude</td>\n    </tr>\n    <tr>\n      <th>243</th>\n      <td>You are the best!</td>\n      <td>gratitude</td>\n    </tr>\n    <tr>\n      <th>244</th>\n      <td>I really appreciate you!</td>\n      <td>gratitude</td>\n    </tr>\n  </tbody>\n</table>\n<p>277 rows × 2 columns</p>\n</div>"
     },
     "execution_count": 4,
     "metadata": {},
     "output_type": "execute_result"
    }
   ],
   "source": [
    "df = pd.concat([df_json, df_csv], axis=0)\n",
    "df"
   ],
   "metadata": {
    "collapsed": false
   }
  },
  {
   "cell_type": "code",
   "execution_count": null,
   "outputs": [],
   "source": [
    "print(df['text'].apply(lambda x: len(x.split(' '))).sum())"
   ],
   "metadata": {
    "collapsed": false
   }
  },
  {
   "cell_type": "code",
   "execution_count": 5,
   "outputs": [
    {
     "data": {
      "text/plain": "<Figure size 1000x400 with 1 Axes>",
      "image/png": "[encoded data removed]"
     },
     "metadata": {},
     "output_type": "display_data"
    }
   ],
   "source": [
    "import matplotlib.pyplot as plt\n",
    "plt.figure(figsize=(10,4))\n",
    "df.intent.value_counts().plot(kind='bar');"
   ],
   "metadata": {
    "collapsed": false
   }
  },
  {
   "cell_type": "markdown",
   "source": [
    "The intents that we want the chatbot to recognize are :"
   ],
   "metadata": {
    "collapsed": false
   }
  },
  {
   "cell_type": "code",
   "execution_count": null,
   "outputs": [],
   "source": [
    "df[\"intent\"].unique()"
   ],
   "metadata": {
    "collapsed": false
   }
  },
  {
   "cell_type": "markdown",
   "source": [
    "# Data pre-processing\n",
    "\n",
    "In this section, we define functions to preprocess our text (parse it using a SpaCy pipeline) and to process it (extract tokens, lemmas or embeddings depending on the application).\n",
    "We save the preprocessed data to disk to avoid repeating this computationally expensive task."
   ],
   "metadata": {
    "collapsed": false
   }
  },
  {
   "cell_type": "code",
   "execution_count": null,
   "outputs": [],
   "source": [
    "# fine-tune preprocessing for spaCy word embeddings using this method : https://www.kaggle.com/code/christofhenkel/how-to-preprocessing-when-using-embeddings"
   ],
   "metadata": {
    "collapsed": false
   }
  },
  {
   "cell_type": "code",
   "execution_count": 6,
   "outputs": [],
   "source": [
    "# Helper functions\n",
    "\n",
    "def lemmatize_text(text, preprocessed=True):\n",
    "    return process_text(text, \"lemmatize\", preprocessed)\n",
    "\n",
    "def tokenize_text(text, preprocessed=True):\n",
    "    return process_text(text, \"tokenize\", preprocessed)\n",
    "\n",
    "def process_text(text, mode: str, preprocessed=True):\n",
    "    if not preprocessed:\n",
    "        text = nlp(text)\n",
    "    if mode == \"tokenize\":\n",
    "        processed_text = [token.text for token in text] # token and embed must have the same processing + SpaCy provides embeddings for punctuation\n",
    "    elif mode == \"embed\":\n",
    "        processed_text = [token.vector for token in text] # token and embed must have the same processing\n",
    "    elif mode == \"lemmatize\":\n",
    "        processed_text = [token.lemma_ for token in text\n",
    "                               if not token.is_punct and not token.is_space and not token.like_url and not token.like_email]\n",
    "    else:\n",
    "        raise ValueError(\"Mode not supported\")\n",
    "    return processed_text\n",
    "\n",
    "def save_preprocessed(raw_text, save_path):\n",
    "    doc_bin = DocBin(attrs=[\"LEMMA\", \"ENT_IOB\", \"ENT_TYPE\"], store_user_data=True)\n",
    "    for doc in nlp.pipe(raw_text):\n",
    "        doc_bin.add(doc)\n",
    "    # save DocBin to a file on disc\n",
    "    doc_bin.to_disk(save_path)"
   ],
   "metadata": {
    "collapsed": false
   }
  },
  {
   "cell_type": "code",
   "execution_count": 8,
   "outputs": [],
   "source": [
    "file_name_spacy = 'preprocessed_dataset_chatbot.spacy'\n",
    "#save_preprocessed(raw_text=df[\"text\"], save_path=file_name_spacy)\n",
    "\n",
    "# Load DocBin at later time or on different system from disc or bytes object\n",
    "doc_bin = DocBin().from_disk(file_name_spacy)\n",
    "df[\"doc\"] = list(doc_bin.get_docs(nlp.vocab))"
   ],
   "metadata": {
    "collapsed": false
   }
  },
  {
   "cell_type": "code",
   "execution_count": null,
   "outputs": [],
   "source": [
    "df"
   ],
   "metadata": {
    "collapsed": false
   }
  },
  {
   "cell_type": "markdown",
   "source": [
    "# Data preparation\n",
    "\n",
    "In this section, we create different training datasets, processing them using SpaCy and our helper functions :\n",
    "\n",
    "- `X_train` is a pandas Series made of all preprocessed sentence\n",
    "- `X_train_embedded` pandas Series, each sentence is a list of embeddings\n",
    "- `X_train_embedded_avg` panda Series, each sentence is the average of each of its words' embedding (using the sum would give embeddings of different magnitude depending of the sentence's length)\n",
    "- `X_train_embedded_avg_tfidf` The previous average is weighted using TF-IDF coefficient (trained on ngrams of 1 token)"
   ],
   "metadata": {
    "collapsed": false
   }
  },
  {
   "cell_type": "code",
   "execution_count": 9,
   "outputs": [],
   "source": [
    "train, test = train_test_split(df, test_size=0.3)\n",
    "\n",
    "X_train = train[\"doc\"].reset_index(drop=True)\n",
    "y_train = train[\"intent\"].reset_index(drop=True)\n",
    "\n",
    "X_test = test[\"doc\"].reset_index(drop=True)\n",
    "y_test = test[\"intent\"].reset_index(drop=True)\n",
    "\n",
    "X_train_embedded = train[\"doc\"].apply(process_text, args=(\"embed\", True,))\n",
    "X_train_embedded_avg = X_train_embedded.apply(np.mean, axis=0).apply(pd.Series)\n",
    "\n",
    "X_test_embedded = test[\"doc\"].apply(process_text, args=(\"embed\", True,))\n",
    "X_test_embedded_avg = X_test_embedded.apply(np.mean, axis=0).apply(pd.Series)"
   ],
   "metadata": {
    "collapsed": false
   }
  },
  {
   "cell_type": "code",
   "execution_count": 10,
   "outputs": [],
   "source": [
    "# The following code block construct a sentence representation as the average of all embeddings of the words in it, weighted by their tfidf score\n",
    "# This is not practical in our chatbot : using word embeddings is one way of mitigating the small dataset size, as words close in meaning should have similar embeddings\n",
    "# Weighing by tf-idf score would \"delete\" unknown world from the vocabulary, which we do not want\n",
    "\n",
    "vectorizer = TfidfVectorizer(ngram_range=(1, 1), lowercase=False, tokenizer=tokenize_text, max_features=10000)\n",
    "X_train_tfidf = vectorizer.fit_transform(X_train) # Maybe not ? Bias, vocab for test in vect // But that would be dumb to not use the vocab for the final one // BEST : Only do vocab on X_train, but if tfidf selected train final on FULL dataset\n",
    "weighted_averages = []\n",
    "for (idxRow, sentence) in X_train.items():\n",
    "    sum_embeddings = 0\n",
    "    for idxWord, word in enumerate(sentence):\n",
    "        try:\n",
    "            tfidf_idx = vectorizer.vocabulary_[word]\n",
    "        except(KeyError):\n",
    "            continue\n",
    "        sum_embeddings += (X_train_tfidf.toarray())[idxRow][tfidf_idx] * X_train_embedded.iloc[idxRow][idxWord]\n",
    "    weighted_averages.append(sum_embeddings/len(sentence))\n",
    "\n",
    "X_train_embedded_avg_tfidf = pd.Series(weighted_averages).apply(pd.Series)\n",
    "\n",
    "X_test_tfidf = vectorizer.transform(X_test)\n",
    "weighted_averages = []\n",
    "for (idxRow, sentence) in X_test.items():\n",
    "    sum_embeddings = 0\n",
    "    for idxWord, word in enumerate(sentence):\n",
    "        try:\n",
    "            tfidf_idx = vectorizer.vocabulary_[word]\n",
    "        except(KeyError):\n",
    "            continue\n",
    "        sum_embeddings += (X_test_tfidf.toarray())[idxRow][tfidf_idx] * X_test_embedded.iloc[idxRow][idxWord]\n",
    "    weighted_averages.append(sum_embeddings/len(sentence))\n",
    "\n",
    "X_test_embedded_avg_tfidf = pd.Series(weighted_averages).apply(pd.Series)"
   ],
   "metadata": {
    "collapsed": false
   }
  },
  {
   "cell_type": "markdown",
   "source": [
    "TODO : Explain alternatives (sense2vec, Doc2vec)"
   ],
   "metadata": {
    "collapsed": false
   }
  },
  {
   "cell_type": "markdown",
   "source": [
    "# Classic ML\n",
    "\n",
    "Our first approach to create our classifier is to use traditional ML algorithms.\n",
    "\n",
    "We will use several algorithms and 3 different approach to represent our training data :\n",
    "\n",
    "- A classic TF-IDF representation (with or without IDF, which is equivalent to a bag-of-words approach)\n",
    "- A \"sentence2vec\" (or s2v) approach, where a sentence is the average of its words' embedding.\n",
    "- A TF-IDF weighted average of word embeddings, s2v_tfidf"
   ],
   "metadata": {
    "collapsed": false
   }
  },
  {
   "cell_type": "markdown",
   "source": [
    "## Models preparation\n",
    "\n",
    "We use the sklearn implementation of GridSearchCV, which optimises the parameters of an estimator (here, our classifiers) by cross-validated grid-search over a parameter grid.\n",
    "We select different algorithms, define a pipeline and a set of parameters for each of those.\n",
    "The use of the pipeline allows us to select the best parameters for the TF-IDF vectorization.\n",
    "\n",
    "The size of our dataset does not contrains us in the choice of the algorithm, as training time is not a concern (No need to swap SVC for LinearSVC or SGDClassifier, for example)\n",
    "\n",
    "GridSearchCV uses K-fold as the cross-validation method. Here, we used 5-fold stratified K-fold.\n",
    "\n",
    "List parameters for clf and vectorizer ?"
   ],
   "metadata": {
    "collapsed": false
   }
  },
  {
   "cell_type": "markdown",
   "source": [
    "Below are defined the models and their corresponding hyperparameters to tune for the TF-IDF approach"
   ],
   "metadata": {
    "collapsed": false
   }
  },
  {
   "cell_type": "code",
   "execution_count": null,
   "outputs": [],
   "source": [
    "vect = TfidfVectorizer(lowercase=False, tokenizer=lemmatize_text, max_features=3000)\n",
    "\n",
    "gs_dict_tfidf = defaultdict(dict)\n",
    "\n",
    "dectree = tree.DecisionTreeClassifier() # CART\n",
    "svm_clf = svm.SVC()\n",
    "multi_nb = naive_bayes.MultinomialNB() # Not suitable for negative values (thus not suitable for word embeddings)\n",
    "log_reg = LogisticRegression()\n",
    "random_forest = RandomForestClassifier()\n",
    "skboost = GradientBoostingClassifier()\n",
    "\n",
    "gs_dict_tfidf['dectree']['pipeline'] = Pipeline([\n",
    "    ('vect', vect),\n",
    "    ('dectree', dectree)])\n",
    "gs_dict_tfidf['svm_clf']['pipeline'] = Pipeline([\n",
    "    ('vect', vect),\n",
    "    ('svm_clf', svm_clf)])\n",
    "gs_dict_tfidf['multi_nb']['pipeline'] = Pipeline([\n",
    "    ('vect', vect),\n",
    "    ('multi_nb', multi_nb)])\n",
    "gs_dict_tfidf['log_reg']['pipeline'] = Pipeline([\n",
    "    ('vect', vect),\n",
    "    ('log_reg', log_reg)])\n",
    "gs_dict_tfidf['random_forest']['pipeline'] = Pipeline([\n",
    "    ('vect', vect),\n",
    "    ('random_forest', random_forest)])\n",
    "gs_dict_tfidf['skboost']['pipeline'] = Pipeline([\n",
    "    ('vect', vect),\n",
    "    ('skboost', skboost)])\n",
    "\n",
    "gs_dict_tfidf['dectree']['params'] = {\n",
    "    \"dectree__max_depth\": [4, 40],\n",
    "    \"vect__ngram_range\": ((1, 1), (1, 2), (1,3), (1,4)),\n",
    "    \"vect__use_idf\": (True, False),\n",
    "    \"vect__binary\": (True, False),\n",
    "}\n",
    "gs_dict_tfidf['svm_clf']['params'] = {\n",
    "    \"svm_clf__kernel\": [\"linear\", \"rbf\"],\n",
    "    \"vect__ngram_range\": ((1, 1), (1, 2), (1,3), (1,4)),\n",
    "    \"vect__use_idf\": (True, False),\n",
    "    \"vect__binary\": (True, False),\n",
    "}\n",
    "gs_dict_tfidf['multi_nb']['params'] = {\n",
    "    \"multi_nb__alpha\": [0.00001, 0.0001, 0.001, 0.1, 1, 10, 100,1000],\n",
    "    \"vect__ngram_range\": ((1, 1), (1, 2), (1,3), (1,4)),\n",
    "    \"vect__use_idf\": (True, False),\n",
    "    \"vect__binary\": (True, False),\n",
    "}\n",
    "gs_dict_tfidf['log_reg']['params'] = {\n",
    "    \"vect__ngram_range\": ((1, 1), (1, 2), (1,3), (1,4)),\n",
    "    \"vect__use_idf\": (True, False),\n",
    "    \"vect__binary\": (True, False),\n",
    "}\n",
    "gs_dict_tfidf['random_forest']['params'] = {\n",
    "    \"vect__ngram_range\": ((1, 1), (1, 2), (1,3), (1,4)),\n",
    "    \"vect__use_idf\": (True, False),\n",
    "    \"vect__binary\": (True, False),\n",
    "}\n",
    "gs_dict_tfidf['skboost']['params'] = {\n",
    "    \"vect__ngram_range\": ((1, 1), (1, 2), (1,3), (1,4)),\n",
    "    \"vect__use_idf\": (True, False),\n",
    "    \"vect__binary\": (True, False),\n",
    "}"
   ],
   "metadata": {
    "collapsed": false
   }
  },
  {
   "cell_type": "markdown",
   "source": [
    "Below are defined the models to be used with the two embeddings approaches"
   ],
   "metadata": {
    "collapsed": false
   }
  },
  {
   "cell_type": "code",
   "execution_count": null,
   "outputs": [],
   "source": [
    "gs_dict_embeddings = defaultdict(dict)\n",
    "# classifiers to use\n",
    "dectree = tree.DecisionTreeClassifier()\n",
    "svm_clf = svm.SVC()\n",
    "\n",
    "gs_dict_embeddings['dectree']['pipeline'] = Pipeline([\n",
    "    ('dectree', dectree)])\n",
    "gs_dict_embeddings['svm_clf']['pipeline'] = Pipeline([\n",
    "    ('svm_clf', svm_clf)])\n",
    "gs_dict_embeddings['log_reg']['pipeline'] = Pipeline([\n",
    "    ('log_reg', log_reg)])\n",
    "gs_dict_embeddings['random_forest']['pipeline'] = Pipeline([\n",
    "    ('random_forest', random_forest)])\n",
    "gs_dict_embeddings['skboost']['pipeline'] = Pipeline([\n",
    "    ('skboost', skboost)])\n",
    "\n",
    "gs_dict_embeddings['dectree']['params'] = {\n",
    "    \"dectree__max_depth\": [4, 10],\n",
    "}\n",
    "gs_dict_embeddings['svm_clf']['params'] = {\n",
    "    \"svm_clf__kernel\": [\"linear\", \"rbf\"],\n",
    "}\n",
    "gs_dict_embeddings['log_reg']['params'] = {\n",
    "\n",
    "}\n",
    "gs_dict_embeddings['random_forest']['params'] = {\n",
    "\n",
    "}\n",
    "gs_dict_embeddings['skboost']['params'] = {\n",
    "\n",
    "}"
   ],
   "metadata": {
    "collapsed": false
   }
  },
  {
   "cell_type": "markdown",
   "source": [
    "## Model Selection"
   ],
   "metadata": {
    "collapsed": false
   }
  },
  {
   "cell_type": "code",
   "execution_count": null,
   "outputs": [],
   "source": [
    "# Helper functions\n",
    "\n",
    "def perform_grid_search(X_train, y_train, pipeline, parameters, scoring):\n",
    "    gs_clf = GridSearchCV(pipeline, parameters, n_jobs=1, verbose=1, cv=3, scoring=scoring) # Issue when n_jobs = -1 OR > 1\n",
    "    # I believe this may be because we use a custom tokenizer in TfidfVectorizer(), can't find how to solve it\n",
    "    print(\"\\n------------------------------------------------------------------------\\n\")\n",
    "    print(\"pipeline:\", [name for name, _ in pipeline.steps])\n",
    "    print(\"parameters:\")\n",
    "    pprint(parameters)\n",
    "\n",
    "    t0 = time()\n",
    "\n",
    "    gs_clf.fit(X_train, y_train)\n",
    "\n",
    "    print(\"\\nDone in %0.3fs\" % (time() - t0))\n",
    "    print()\n",
    "\n",
    "    print(\"Best score: %0.3f\" % gs_clf.best_score_)\n",
    "    print(\"Best parameters set:\")\n",
    "    best_parameters = gs_clf.best_estimator_.get_params()\n",
    "    for param_name in sorted(parameters.keys()):\n",
    "        print(f\"\\t'{param_name}': '{best_parameters[param_name]}'\")\n",
    "    return gs_clf\n",
    "\n",
    "def best_estimator_per_clf(X_train, y_train, gs_dict: defaultdict, scoring):\n",
    "    for clf in dict(gs_dict):\n",
    "        gs_dict[clf]['gs'] = perform_grid_search(\n",
    "            X_train,\n",
    "            y_train,\n",
    "            gs_dict[clf]['pipeline'],\n",
    "            gs_dict[clf]['params'],\n",
    "            scoring\n",
    "        )"
   ],
   "metadata": {
    "collapsed": false
   }
  },
  {
   "cell_type": "code",
   "execution_count": null,
   "outputs": [],
   "source": [
    "best_estimator_per_clf(X_train, y_train, gs_dict_tfidf, scoring=\"accuracy\")\n",
    "best_estimator_per_clf(X_train_embedded_avg, y_train, gs_dict_embeddings, scoring=\"accuracy\")\n",
    "\n",
    "# TODO : Use random state in gsCV and XGBoost for reporductibility\n",
    "\n",
    "# TODO : implement multiple scoring : https://scikit-learn.org/stable/auto_examples/model_selection/plot_multi_metric_evaluation.html#sphx-glr-auto-examples-model-selection-plot-multi-metric-evaluation-py\n",
    "\n",
    "# TODO : extract metrics https://scikit-learn.org/stable/auto_examples/model_selection/plot_multi_metric_evaluation.html#sphx-glr-auto-examples-model-selection-plot-multi-metric-evaluation-py"
   ],
   "metadata": {
    "collapsed": false
   }
  },
  {
   "cell_type": "code",
   "execution_count": null,
   "outputs": [],
   "source": [
    "from sklearn.metrics import accuracy_score, classification_report\n",
    "\n",
    "print(\"---------------------------------------------------------\")\n",
    "print(\"TF-IDF\")\n",
    "for clf in dict(gs_dict_tfidf):\n",
    "    print(f\"{clf} - TF-IDF\\n\")\n",
    "    y_pred = gs_dict_tfidf[clf]['gs'].predict(X_test)\n",
    "\n",
    "    print('accuracy %s' % accuracy_score(y_pred, y_test))\n",
    "    print(classification_report(y_test, y_pred))\n",
    "    print(\"---------------------------------------------------------\")\n",
    "print(\"\\nEMBEDDINGS AVERAGED\")\n",
    "print(\"\\n---------------------------------------------------------\")\n",
    "\n",
    "for clf in dict(gs_dict_embeddings):\n",
    "    print(f\"{clf} - Embeddings averaged\\n\")\n",
    "    y_pred = gs_dict_embeddings[clf]['gs'].predict(X_test_embedded_avg)\n",
    "\n",
    "    print('accuracy %s' % accuracy_score(y_pred, y_test))\n",
    "    print(classification_report(y_test, y_pred))\n",
    "    print(\"---------------------------------------------------------\")"
   ],
   "metadata": {
    "collapsed": false
   }
  },
  {
   "cell_type": "code",
   "execution_count": null,
   "outputs": [],
   "source": [
    "best_estimator_per_clf(X_train_embedded_avg, y_train, gs_dict_embeddings, scoring=\"accuracy\")"
   ],
   "metadata": {
    "collapsed": false
   }
  },
  {
   "cell_type": "code",
   "execution_count": null,
   "outputs": [],
   "source": [
    "test = sum(process_text(nlp(\"I want to print 76 page of a document\"), mode=\"embed\"))"
   ],
   "metadata": {
    "collapsed": false
   }
  },
  {
   "cell_type": "code",
   "execution_count": null,
   "outputs": [],
   "source": [
    "model = gs_dict_embeddings['svm_clf']['gs'].best_estimator_\n",
    "model.predict([test])"
   ],
   "metadata": {
    "collapsed": false
   }
  },
  {
   "cell_type": "markdown",
   "source": [
    "# Neural networks"
   ],
   "metadata": {
    "collapsed": false
   }
  },
  {
   "cell_type": "markdown",
   "source": [
    "## Model preparation"
   ],
   "metadata": {
    "collapsed": false
   }
  },
  {
   "cell_type": "markdown",
   "source": [
    "## Model selection"
   ],
   "metadata": {
    "collapsed": false
   }
  },
  {
   "cell_type": "markdown",
   "source": [
    "idea : skew text classification if name entities are found (either by multiple channels NN or by adding a feature to the data passed)"
   ],
   "metadata": {
    "collapsed": false
   }
  },
  {
   "cell_type": "code",
   "execution_count": null,
   "outputs": [],
   "source": [
    "# LSTM : https://www.tensorflow.org/text/tutorials/text_classification_rnn\n",
    "len(nlp.vocab.vectors.keys())"
   ],
   "metadata": {
    "collapsed": false
   }
  },
  {
   "cell_type": "code",
   "execution_count": 11,
   "outputs": [],
   "source": [
    "import tensorflow as tf\n",
    "\n",
    "max_words = 30 # Max number of words in a sentence\n",
    "\n",
    "raw_inputs = X_train_embedded\n",
    "padded_inputs = tf.keras.preprocessing.sequence.pad_sequences(\n",
    "    X_train_embedded,\n",
    "    maxlen=max_words,\n",
    "    padding=\"pre\",\n",
    "    truncating=\"pre\",\n",
    "    dtype=\"float32\",\n",
    ")"
   ],
   "metadata": {
    "collapsed": false
   }
  },
  {
   "cell_type": "code",
   "execution_count": null,
   "outputs": [],
   "source": [
    "padded_inputs.shape"
   ],
   "metadata": {
    "collapsed": false
   }
  },
  {
   "cell_type": "code",
   "execution_count": 12,
   "outputs": [
    {
     "name": "stderr",
     "output_type": "stream",
     "text": [
      "2022-11-09 01:38:23.148722: I tensorflow/core/platform/cpu_feature_guard.cc:151] This TensorFlow binary is optimized with oneAPI Deep Neural Network Library (oneDNN) to use the following CPU instructions in performance-critical operations:  SSE4.1 SSE4.2 AVX AVX2 FMA\n",
      "To enable them in other operations, rebuild TensorFlow with the appropriate compiler flags.\n",
      "2022-11-09 01:38:23.149289: I tensorflow/core/common_runtime/process_util.cc:146] Creating new thread pool with default inter op setting: 2. Tune using inter_op_parallelism_threads for best performance.\n"
     ]
    },
    {
     "name": "stdout",
     "output_type": "stream",
     "text": [
      "Model: \"sequential\"\n",
      "_________________________________________________________________\n",
      " Layer (type)                Output Shape              Param #   \n",
      "=================================================================\n",
      " masking (Masking)           (None, None, 300)         0         \n",
      "                                                                 \n",
      " lstm (LSTM)                 (None, 128)               219648    \n",
      "                                                                 \n",
      " dense (Dense)               (None, 8)                 1032      \n",
      "                                                                 \n",
      "=================================================================\n",
      "Total params: 220,680\n",
      "Trainable params: 220,680\n",
      "Non-trainable params: 0\n",
      "_________________________________________________________________\n",
      "None\n",
      "Epoch 1/10\n",
      "5/5 [==============================] - 5s 368ms/step - loss: 1.9493 - accuracy: 0.3407 - val_loss: 1.6341 - val_accuracy: 0.6724\n",
      "Epoch 2/10\n",
      "5/5 [==============================] - 1s 135ms/step - loss: 1.5766 - accuracy: 0.6667 - val_loss: 1.3009 - val_accuracy: 0.7931\n",
      "Epoch 3/10\n",
      "5/5 [==============================] - 1s 127ms/step - loss: 1.2538 - accuracy: 0.7926 - val_loss: 0.9576 - val_accuracy: 0.8448\n",
      "Epoch 4/10\n",
      "5/5 [==============================] - 1s 106ms/step - loss: 0.9295 - accuracy: 0.8222 - val_loss: 0.7061 - val_accuracy: 0.8793\n",
      "Epoch 5/10\n",
      "5/5 [==============================] - 1s 109ms/step - loss: 0.6907 - accuracy: 0.8593 - val_loss: 0.5592 - val_accuracy: 0.8793\n",
      "Epoch 6/10\n",
      "5/5 [==============================] - 0s 96ms/step - loss: 0.5250 - accuracy: 0.9037 - val_loss: 0.5091 - val_accuracy: 0.8793\n",
      "Epoch 7/10\n",
      "5/5 [==============================] - 1s 110ms/step - loss: 0.3976 - accuracy: 0.9259 - val_loss: 0.4154 - val_accuracy: 0.8793\n",
      "Epoch 8/10\n",
      "5/5 [==============================] - 1s 106ms/step - loss: 0.2945 - accuracy: 0.9481 - val_loss: 0.3876 - val_accuracy: 0.8793\n",
      "Epoch 9/10\n",
      "5/5 [==============================] - 0s 78ms/step - loss: 0.2266 - accuracy: 0.9704 - val_loss: 0.4402 - val_accuracy: 0.8448\n",
      "Epoch 10/10\n",
      "5/5 [==============================] - 0s 102ms/step - loss: 0.2262 - accuracy: 0.9481 - val_loss: 0.4154 - val_accuracy: 0.8448\n"
     ]
    }
   ],
   "source": [
    "from keras.models import Sequential\n",
    "from keras.layers import LSTM\n",
    "from keras.layers import Dense, Input, Masking\n",
    "import tensorflow as tf\n",
    "from sklearn.preprocessing import LabelEncoder\n",
    "\n",
    "le = LabelEncoder()\n",
    "y_encoded = le.fit_transform(y_train)\n",
    "number_classes = len(y_train.unique())\n",
    "\n",
    "model=Sequential()\n",
    "#model.add(Embedding(vocab_size,300,input_length=max_words))\n",
    "model.add(Masking(mask_value=0, input_shape=(None, 300)))\n",
    "model.add(LSTM(units=128,\n",
    "               return_sequences=False,\n",
    "               input_shape=(None, 300)\n",
    "               ))\n",
    "model.add(Dense(number_classes, activation='softmax'))\n",
    "\n",
    "print(model.summary())\n",
    "model.compile(loss='sparse_categorical_crossentropy', optimizer='adam', metrics=['accuracy'])\n",
    "\n",
    "history = model.fit(tf.convert_to_tensor(padded_inputs), y_encoded, epochs=10, validation_split=0.3)"
   ],
   "metadata": {
    "collapsed": false
   }
  },
  {
   "cell_type": "code",
   "execution_count": 14,
   "outputs": [],
   "source": [
    "padded_test_inputs = tf.keras.preprocessing.sequence.pad_sequences(\n",
    "    X_test_embedded,\n",
    "    maxlen=max_words,\n",
    "    padding=\"pre\",\n",
    "    truncating=\"pre\",\n",
    "    dtype=\"float32\",\n",
    ")\n",
    "y_pred = np.argmax(model.predict(tf.convert_to_tensor(padded_test_inputs)), axis=1)"
   ],
   "metadata": {
    "collapsed": false
   }
  },
  {
   "cell_type": "code",
   "execution_count": 15,
   "outputs": [
    {
     "name": "stdout",
     "output_type": "stream",
     "text": [
      "3/3 [==============================] - 0s 22ms/step - loss: 0.5531 - accuracy: 0.7738\n"
     ]
    },
    {
     "data": {
      "text/plain": "[0.5531407594680786, 0.773809552192688]"
     },
     "execution_count": 15,
     "metadata": {},
     "output_type": "execute_result"
    }
   ],
   "source": [
    "model.evaluate(x=tf.convert_to_tensor(padded_test_inputs), y=le.transform(y_test))"
   ],
   "metadata": {
    "collapsed": false
   }
  },
  {
   "cell_type": "code",
   "execution_count": null,
   "outputs": [],
   "source": [
    "from sklearn.metrics import accuracy_score\n",
    "accuracy = accuracy_score(le.transform(y_test), y_pred)\n",
    "accuracy"
   ],
   "metadata": {
    "collapsed": false
   }
  },
  {
   "cell_type": "code",
   "execution_count": null,
   "outputs": [],
   "source": [
    "test = process_text(\"I would like to see the planning\", mode=\"embed\", preprocessed=False)\n",
    "predict = model.predict(np.asarray([test]))\n",
    "predicted_class = np.argmax(predict)\n",
    "predicted_class = le.inverse_transform([predicted_class])\n",
    "predicted_class"
   ],
   "metadata": {
    "collapsed": false
   }
  },
  {
   "cell_type": "code",
   "execution_count": null,
   "outputs": [],
   "source": [
    "# Makes no sense to train LSTM / CNN on Tf-Idf : They preserve spatial / temporal information, but that information is lost with tfidf\n",
    "# Does not play to their strength, not more relevant than a classic classifier"
   ],
   "metadata": {
    "collapsed": false
   }
  },
  {
   "cell_type": "code",
   "execution_count": 19,
   "outputs": [
    {
     "data": {
      "text/plain": "<Figure size 640x480 with 1 Axes>",
      "image/png": "[encoded data removed]"
     },
     "metadata": {},
     "output_type": "display_data"
    }
   ],
   "source": [
    "# Helper function\n",
    "\n",
    "import matplotlib.pyplot as plt\n",
    "\n",
    "def plot_graphs(history, metric):\n",
    "  plt.plot(history.history[metric])\n",
    "  plt.plot(history.history['val_'+metric], '')\n",
    "  plt.xlabel(\"Epochs\")\n",
    "  plt.ylabel(metric)\n",
    "  plt.legend([metric, 'val_'+metric])\n",
    "\n",
    "                                    plot_graphs(history, \"loss\")"
   ],
   "metadata": {
    "collapsed": false
   }
  },
  {
   "cell_type": "code",
   "execution_count": 17,
   "outputs": [
    {
     "name": "stdout",
     "output_type": "stream",
     "text": [
      "Epoch 1/15\n",
      "5/5 [==============================] - 1s 86ms/step - loss: 2.0192 - accuracy: 0.1778 - val_loss: 1.7962 - val_accuracy: 0.2759\n",
      "Epoch 2/15\n",
      "5/5 [==============================] - 0s 30ms/step - loss: 1.7099 - accuracy: 0.3704 - val_loss: 1.6193 - val_accuracy: 0.4655\n",
      "Epoch 3/15\n",
      "5/5 [==============================] - 0s 33ms/step - loss: 1.4419 - accuracy: 0.6222 - val_loss: 1.4462 - val_accuracy: 0.5690\n",
      "Epoch 4/15\n",
      "5/5 [==============================] - 0s 34ms/step - loss: 1.2432 - accuracy: 0.7037 - val_loss: 1.2449 - val_accuracy: 0.7069\n",
      "Epoch 5/15\n",
      "5/5 [==============================] - 0s 31ms/step - loss: 1.0736 - accuracy: 0.7704 - val_loss: 1.1269 - val_accuracy: 0.7069\n",
      "Epoch 6/15\n",
      "5/5 [==============================] - 0s 21ms/step - loss: 0.9340 - accuracy: 0.8074 - val_loss: 1.0303 - val_accuracy: 0.7414\n",
      "Epoch 7/15\n",
      "5/5 [==============================] - 0s 33ms/step - loss: 0.8142 - accuracy: 0.8222 - val_loss: 0.9421 - val_accuracy: 0.7586\n",
      "Epoch 8/15\n",
      "5/5 [==============================] - 0s 31ms/step - loss: 0.7181 - accuracy: 0.8370 - val_loss: 0.8825 - val_accuracy: 0.7586\n",
      "Epoch 9/15\n",
      "5/5 [==============================] - 0s 24ms/step - loss: 0.6266 - accuracy: 0.8593 - val_loss: 0.8244 - val_accuracy: 0.7414\n",
      "Epoch 10/15\n",
      "5/5 [==============================] - 0s 33ms/step - loss: 0.5444 - accuracy: 0.8815 - val_loss: 0.7680 - val_accuracy: 0.7414\n",
      "Epoch 11/15\n",
      "5/5 [==============================] - 0s 27ms/step - loss: 0.4742 - accuracy: 0.9037 - val_loss: 0.7152 - val_accuracy: 0.7759\n",
      "Epoch 12/15\n",
      "5/5 [==============================] - 0s 26ms/step - loss: 0.4091 - accuracy: 0.9037 - val_loss: 0.6926 - val_accuracy: 0.7931\n",
      "Epoch 13/15\n",
      "5/5 [==============================] - 0s 31ms/step - loss: 0.3516 - accuracy: 0.9333 - val_loss: 0.6689 - val_accuracy: 0.7931\n",
      "Epoch 14/15\n",
      "5/5 [==============================] - 0s 24ms/step - loss: 0.3034 - accuracy: 0.9481 - val_loss: 0.6356 - val_accuracy: 0.7931\n",
      "Epoch 15/15\n",
      "5/5 [==============================] - 0s 33ms/step - loss: 0.2627 - accuracy: 0.9778 - val_loss: 0.6076 - val_accuracy: 0.7931\n"
     ]
    }
   ],
   "source": [
    "model = Sequential([\n",
    "tf.keras.layers.Conv1D(64, 3, activation='relu'),\n",
    "tf.keras.layers.GlobalMaxPooling1D(),\n",
    "Dense(10, activation='relu'),\n",
    "Dense(number_classes, activation='softmax')])\n",
    "model.compile(loss='sparse_categorical_crossentropy',optimizer='adam',metrics=['accuracy'])\n",
    "\n",
    "history = model.fit(tf.convert_to_tensor(padded_inputs), y_encoded, epochs=15, validation_split=0.3)"
   ],
   "metadata": {
    "collapsed": false
   }
  },
  {
   "cell_type": "code",
   "execution_count": 18,
   "outputs": [
    {
     "name": "stdout",
     "output_type": "stream",
     "text": [
      "3/3 [==============================] - 0s 32ms/step - loss: 0.6769 - accuracy: 0.7857\n"
     ]
    },
    {
     "data": {
      "text/plain": "[0.6769375801086426, 0.7857142686843872]"
     },
     "execution_count": 18,
     "metadata": {},
     "output_type": "execute_result"
    }
   ],
   "source": [
    "model.evaluate(padded_test_inputs, y=le.transform(y_test))"
   ],
   "metadata": {
    "collapsed": false
   }
  },
  {
   "cell_type": "code",
   "execution_count": null,
   "outputs": [],
   "source": [
    "\n",
    "\n",
    "def model_to_optimize(num_filters, kernel_size):\n",
    "    model = Sequential([\n",
    "    tf.keras.layers.Conv1D(num_filters, kernel_size, activation='relu'),\n",
    "    tf.keras.layers.GlobalMaxPooling1D(),\n",
    "    Dense(10, activation='relu'),\n",
    "    Dense(number_classes, activation='softmax')])\n",
    "    model.compile(loss='sparse_categorical_crossentropy',optimizer='adam',metrics=['accuracy'])\n",
    "    return model\n",
    "\n",
    "params = {\n",
    "    \"num_filters\":[32, 64, 128],\n",
    "    \"kernel_size\":[3, 5, 7],\n",
    "}\n",
    "\n",
    "model = tf.keras.wrappers.scikit_learn.KerasClassifier(build_fn=model_to_optimize,\n",
    "                            epochs=20,\n",
    "                           batch_size=10,\n",
    "                            verbose=False)\n",
    "\n",
    "from sklearn.model_selection import GridSearchCV\n",
    "search = GridSearchCV(estimator=model, param_grid=params,\n",
    "                              cv=2, verbose=1)\n",
    "search_result = search.fit(padded_inputs, y_encoded)"
   ],
   "metadata": {
    "collapsed": false
   }
  },
  {
   "cell_type": "code",
   "execution_count": null,
   "outputs": [],
   "source": [
    "search_result.best_params_"
   ],
   "metadata": {
    "collapsed": false
   }
  },
  {
   "cell_type": "code",
   "execution_count": null,
   "outputs": [],
   "source": [
    "search_result.best_params_\n",
    "pd.DataFrame(search.cv_results_)"
   ],
   "metadata": {
    "collapsed": false
   }
  },
  {
   "cell_type": "code",
   "execution_count": null,
   "outputs": [],
   "source": [
    "from sklearn import model_selection\n",
    "import tensorflow as tf\n",
    "from keras.layers import TextVectorization\n",
    "from keras.layers import Embedding\n",
    "from keras import layers\n",
    "\n",
    "max_words = 30 # Max number of words in a sentence\n",
    "\n",
    "raw_inputs = X_train_embedded\n",
    "padded_inputs = tf.keras.preprocessing.sequence.pad_sequences(\n",
    "    X_train_embedded,\n",
    "    maxlen=max_words,\n",
    "    padding=\"pre\",\n",
    "    truncating=\"pre\",\n",
    "    dtype=\"float32\",\n",
    ")\n",
    "\n",
    "# Affichage des scores moyens par pli\n",
    "print('---------------------------------------------------------------------')\n",
    "print('Scores par pli')\n",
    "for i in range(0, len(acc_per_fold)):\n",
    "  print('---------------------------------------------------------------------')\n",
    "  print(f'> Pli {i+1} - Loss: {loss_per_fold[i]:.2f}',\n",
    "        f'- Accuracy: {acc_per_fold[i]:.2f}%')\n",
    "print('---------------------------------------------------------------------')\n",
    "print('Scores moyens pour tous les plis :')\n",
    "print(f'> Accuracy: {np.mean(acc_per_fold):.2f}',\n",
    "      f'(+- {np.std(acc_per_fold):.2f})')\n",
    "print(f'> Loss: {np.mean(loss_per_fold):.2f}')\n",
    "print('---------------------------------------------------------------------')"
   ],
   "metadata": {
    "collapsed": false
   }
  },
  {
   "cell_type": "code",
   "execution_count": null,
   "outputs": [],
   "source": [
    "accuracy_data = []\n",
    "loss_data = []\n",
    "for i, h in enumerate(histories):\n",
    "  acc = h.history['acc']\n",
    "  val_acc = h.history['val_acc']\n",
    "  loss = h.history['loss']\n",
    "  val_loss = h.history['val_loss']\n",
    "  for j in range(len(acc)):\n",
    "    accuracy_data.append([i+1, j+1, acc[j], 'Entraînement'])\n",
    "    accuracy_data.append([i+1, j+1, val_acc[j], 'Validation'])\n",
    "    loss_data.append([i+1, j+1, loss[j], 'Entraînement'])\n",
    "    loss_data.append([i+1, j+1, val_loss[j], 'Validation'])\n",
    "\n",
    "acc_df = pd.DataFrame(accuracy_data,\n",
    "                      columns=['Pli', 'Epoch', 'Accuracy', 'Données'])\n",
    "sns.relplot(data=acc_df, x='Epoch', y='Accuracy', hue='Pli', style='Données',\n",
    "            kind='line')\n",
    "\n",
    "loss_df = pd.DataFrame(loss_data, columns=['Pli', 'Epoch', 'Perte', 'Données'])\n",
    "sns.relplot(data=loss_df, x='Epoch', y='Perte', hue='Pli', style='Données',\n",
    "            kind='line')"
   ],
   "metadata": {
    "collapsed": false
   }
  },
  {
   "cell_type": "code",
   "execution_count": null,
   "outputs": [],
   "source": [
    "# Use party one to implement a CNN"
   ],
   "metadata": {
    "collapsed": false
   }
  },
  {
   "cell_type": "code",
   "execution_count": null,
   "outputs": [],
   "source": [
    "# Tes with matrix embedding based solely on my vocab or on the whole spacy vocab"
   ],
   "metadata": {
    "collapsed": false
   }
  },
  {
   "cell_type": "markdown",
   "source": [
    "TODO : Once data has been generated, apply vizualization techniques found in partie 1 to it !"
   ],
   "metadata": {
    "collapsed": false
   }
  }
 ],
 "metadata": {
  "kernelspec": {
   "display_name": "Python 3",
   "language": "python",
   "name": "python3"
  },
  "language_info": {
   "codemirror_mode": {
    "name": "ipython",
    "version": 2
   },
   "file_extension": ".py",
   "mimetype": "text/x-python",
   "name": "python",
   "nbconvert_exporter": "python",
   "pygments_lexer": "ipython2",
   "version": "2.7.6"
  }
 },
 "nbformat": 4,
 "nbformat_minor": 0
}
