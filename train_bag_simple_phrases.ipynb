{
 "cells": [
  {
   "cell_type": "markdown",
   "source": [
    "Our first approach is to generate, by hand, a simple collections of sentences organised by intents and associated answers.\n",
    "We will then process that data to make it suitable for NLP applications, encode it using \"bag of word\" and train a neural network to predict user intent from an utterance.\n",
    "\n",
    "Then, we wil used pre-trained word embeddings\n",
    "\n",
    "Then, we will generate training data using OpenAI GPT-3 API and train it, using both bag of words and word embeddings\n",
    "We can also try TF-IDF to compare it with the NN."
   ],
   "metadata": {
    "collapsed": false
   }
  },
  {
   "cell_type": "markdown",
   "source": [
    "A chatbot needs to understand intents in users' utterances. For this purpose, we train a classifier."
   ],
   "metadata": {
    "collapsed": false
   }
  },
  {
   "cell_type": "markdown",
   "source": [
    "I use the IMDB review dataset for basic testing"
   ],
   "metadata": {
    "collapsed": false
   }
  },
  {
   "cell_type": "markdown",
   "source": [
    "# Import / Generate data\n",
    "\n",
    "In this section, we import our dataset, made of hand-crafted sentences and the corresponding intent."
   ],
   "metadata": {
    "collapsed": false
   }
  },
  {
   "cell_type": "code",
   "execution_count": 1,
   "outputs": [],
   "source": [
    "import json\n",
    "\n",
    "import numpy as np\n",
    "import pandas as pd\n",
    "from sklearn import tree, svm, naive_bayes\n",
    "from sklearn.ensemble import GradientBoostingClassifier\n",
    "from sklearn.ensemble import RandomForestClassifier\n",
    "from sklearn.linear_model import LogisticRegression\n",
    "from sklearn.pipeline import Pipeline\n",
    "import sklearn.metrics\n",
    "from sklearn.model_selection import train_test_split\n",
    "from sklearn.model_selection import GridSearchCV\n",
    "from sklearn.feature_extraction.text import TfidfVectorizer\n",
    "from pprint import pprint\n",
    "from time import time\n",
    "from collections import defaultdict\n",
    "import spacy\n",
    "from spacy.tokens import DocBin\n",
    "nlp = spacy.load(\"en_core_web_lg\")"
   ],
   "metadata": {
    "collapsed": false
   }
  },
  {
   "cell_type": "code",
   "execution_count": 18,
   "outputs": [],
   "source": [
    "data_file = open('intents.json').read()\n",
    "intents = json.loads(data_file)\n",
    "\n",
    "\n",
    "data = []\n",
    "for intent in intents['intents']:\n",
    "    for pattern in intent['patterns']:\n",
    "        data.append([pattern, intent['tag']])\n",
    "\n",
    "df_json = pd.DataFrame(data, columns=['text','intent'])"
   ],
   "metadata": {
    "collapsed": false
   }
  },
  {
   "cell_type": "code",
   "execution_count": 19,
   "outputs": [],
   "source": [
    "df_csv = pd.read_csv(\"sentences/full.csv\")"
   ],
   "metadata": {
    "collapsed": false
   }
  },
  {
   "cell_type": "code",
   "execution_count": 20,
   "outputs": [
    {
     "data": {
      "text/plain": "                               text     intent\n0                                Hi   greeting\n1                               Hey   greeting\n2                 Is anyone there ?   greeting\n3                             Hello   greeting\n4                    Good morning !   greeting\n..                              ...        ...\n240        Thank you for your care.  gratitude\n241  Thank you for being my friend.  gratitude\n242       Thank you for everything.  gratitude\n243               You are the best!  gratitude\n244        I really appreciate you!  gratitude\n\n[277 rows x 2 columns]",
      "text/html": "<div>\n<style scoped>\n    .dataframe tbody tr th:only-of-type {\n        vertical-align: middle;\n    }\n\n    .dataframe tbody tr th {\n        vertical-align: top;\n    }\n\n    .dataframe thead th {\n        text-align: right;\n    }\n</style>\n<table border=\"1\" class=\"dataframe\">\n  <thead>\n    <tr style=\"text-align: right;\">\n      <th></th>\n      <th>text</th>\n      <th>intent</th>\n    </tr>\n  </thead>\n  <tbody>\n    <tr>\n      <th>0</th>\n      <td>Hi</td>\n      <td>greeting</td>\n    </tr>\n    <tr>\n      <th>1</th>\n      <td>Hey</td>\n      <td>greeting</td>\n    </tr>\n    <tr>\n      <th>2</th>\n      <td>Is anyone there ?</td>\n      <td>greeting</td>\n    </tr>\n    <tr>\n      <th>3</th>\n      <td>Hello</td>\n      <td>greeting</td>\n    </tr>\n    <tr>\n      <th>4</th>\n      <td>Good morning !</td>\n      <td>greeting</td>\n    </tr>\n    <tr>\n      <th>...</th>\n      <td>...</td>\n      <td>...</td>\n    </tr>\n    <tr>\n      <th>240</th>\n      <td>Thank you for your care.</td>\n      <td>gratitude</td>\n    </tr>\n    <tr>\n      <th>241</th>\n      <td>Thank you for being my friend.</td>\n      <td>gratitude</td>\n    </tr>\n    <tr>\n      <th>242</th>\n      <td>Thank you for everything.</td>\n      <td>gratitude</td>\n    </tr>\n    <tr>\n      <th>243</th>\n      <td>You are the best!</td>\n      <td>gratitude</td>\n    </tr>\n    <tr>\n      <th>244</th>\n      <td>I really appreciate you!</td>\n      <td>gratitude</td>\n    </tr>\n  </tbody>\n</table>\n<p>277 rows × 2 columns</p>\n</div>"
     },
     "execution_count": 20,
     "metadata": {},
     "output_type": "execute_result"
    }
   ],
   "source": [
    "df = pd.concat([df_json, df_csv], axis=0)\n",
    "df"
   ],
   "metadata": {
    "collapsed": false
   }
  },
  {
   "cell_type": "code",
   "execution_count": 105,
   "outputs": [
    {
     "name": "stdout",
     "output_type": "stream",
     "text": [
      "1530\n"
     ]
    }
   ],
   "source": [
    "print(df['text'].apply(lambda x: len(x.split(' '))).sum())"
   ],
   "metadata": {
    "collapsed": false
   }
  },
  {
   "cell_type": "code",
   "execution_count": 106,
   "outputs": [
    {
     "data": {
      "text/plain": "<Figure size 1000x400 with 1 Axes>",
      "image/png": "[encoded data removed]"
     },
     "metadata": {},
     "output_type": "display_data"
    }
   ],
   "source": [
    "import matplotlib.pyplot as plt\n",
    "plt.figure(figsize=(10,4))\n",
    "df.intent.value_counts().plot(kind='bar');"
   ],
   "metadata": {
    "collapsed": false
   }
  },
  {
   "cell_type": "markdown",
   "source": [
    "The intents that we want the chatbot to recognize are :"
   ],
   "metadata": {
    "collapsed": false
   }
  },
  {
   "cell_type": "code",
   "execution_count": 21,
   "outputs": [
    {
     "data": {
      "text/plain": "array(['greeting', 'goodbye', 'gratitude', 'about', 'help',\n       'printing_request', 'complaint', 'check_schedule'], dtype=object)"
     },
     "execution_count": 21,
     "metadata": {},
     "output_type": "execute_result"
    }
   ],
   "source": [
    "df[\"intent\"].unique()"
   ],
   "metadata": {
    "collapsed": false
   }
  },
  {
   "cell_type": "markdown",
   "source": [
    "# Data pre-processing\n",
    "\n",
    "In this section, we define functions to preprocess our text (parse it using a SpaCy pipeline) and to process it (extract tokens, lemmas or embeddings depending on the application).\n",
    "We save the preprocessed data to disk to avoid repeating this computationally expensive task."
   ],
   "metadata": {
    "collapsed": false
   }
  },
  {
   "cell_type": "code",
   "execution_count": null,
   "outputs": [],
   "source": [
    "# fine-tune preprocessing for spaCy word embeddings using this method : https://www.kaggle.com/code/christofhenkel/how-to-preprocessing-when-using-embeddings"
   ],
   "metadata": {
    "collapsed": false
   }
  },
  {
   "cell_type": "code",
   "execution_count": 22,
   "outputs": [],
   "source": [
    "# Helper functions\n",
    "\n",
    "def lemmatize_text(text, preprocessed=True):\n",
    "    return process_text(text, \"lemmatize\", preprocessed)\n",
    "\n",
    "def tokenize_text(text, preprocessed=True):\n",
    "    return process_text(text, \"tokenize\", preprocessed)\n",
    "\n",
    "def process_text(text, mode: str, preprocessed=True):\n",
    "    if not preprocessed:\n",
    "        text = nlp(text)\n",
    "    if mode == \"tokenize\":\n",
    "        processed_text = [token.text for token in text] # token and embed must have the same processing + SpaCy provides embeddings for punctuation\n",
    "    elif mode == \"embed\":\n",
    "        processed_text = [token.vector for token in text] # token and embed must have the same processing\n",
    "    elif mode == \"lemmatize\":\n",
    "        processed_text = [token.lemma_ for token in text\n",
    "                               if not token.is_punct and not token.is_space and not token.like_url and not token.like_email]\n",
    "    else:\n",
    "        raise ValueError(\"Mode not supported\")\n",
    "    return processed_text\n",
    "\n",
    "def save_preprocessed(raw_text, save_path):\n",
    "    doc_bin = DocBin(attrs=[\"LEMMA\", \"ENT_IOB\", \"ENT_TYPE\"], store_user_data=True)\n",
    "    for doc in nlp.pipe(raw_text):\n",
    "        doc_bin.add(doc)\n",
    "    # save DocBin to a file on disc\n",
    "    doc_bin.to_disk(save_path)"
   ],
   "metadata": {
    "collapsed": false
   }
  },
  {
   "cell_type": "code",
   "execution_count": 23,
   "outputs": [],
   "source": [
    "file_name_spacy = 'preprocessed_dataset_chatbot.spacy'\n",
    "save_preprocessed(raw_text=df[\"text\"], save_path=file_name_spacy)\n",
    "\n",
    "# Load DocBin at later time or on different system from disc or bytes object\n",
    "doc_bin = DocBin().from_disk(file_name_spacy)\n",
    "df[\"doc\"] = list(doc_bin.get_docs(nlp.vocab))"
   ],
   "metadata": {
    "collapsed": false
   }
  },
  {
   "cell_type": "code",
   "execution_count": 26,
   "outputs": [
    {
     "data": {
      "text/plain": "                               text     intent  \\\n0                                Hi   greeting   \n1                               Hey   greeting   \n2                 Is anyone there ?   greeting   \n3                             Hello   greeting   \n4                    Good morning !   greeting   \n..                              ...        ...   \n240        Thank you for your care.  gratitude   \n241  Thank you for being my friend.  gratitude   \n242       Thank you for everything.  gratitude   \n243               You are the best!  gratitude   \n244        I really appreciate you!  gratitude   \n\n                                         doc  \n0                                       (Hi)  \n1                                      (Hey)  \n2                     (Is, anyone, there, ?)  \n3                                    (Hello)  \n4                         (Good, morning, !)  \n..                                       ...  \n240         (Thank, you, for, your, care, .)  \n241  (Thank, you, for, being, my, friend, .)  \n242         (Thank, you, for, everything, .)  \n243                 (You, are, the, best, !)  \n244          (I, really, appreciate, you, !)  \n\n[277 rows x 3 columns]",
      "text/html": "<div>\n<style scoped>\n    .dataframe tbody tr th:only-of-type {\n        vertical-align: middle;\n    }\n\n    .dataframe tbody tr th {\n        vertical-align: top;\n    }\n\n    .dataframe thead th {\n        text-align: right;\n    }\n</style>\n<table border=\"1\" class=\"dataframe\">\n  <thead>\n    <tr style=\"text-align: right;\">\n      <th></th>\n      <th>text</th>\n      <th>intent</th>\n      <th>doc</th>\n    </tr>\n  </thead>\n  <tbody>\n    <tr>\n      <th>0</th>\n      <td>Hi</td>\n      <td>greeting</td>\n      <td>(Hi)</td>\n    </tr>\n    <tr>\n      <th>1</th>\n      <td>Hey</td>\n      <td>greeting</td>\n      <td>(Hey)</td>\n    </tr>\n    <tr>\n      <th>2</th>\n      <td>Is anyone there ?</td>\n      <td>greeting</td>\n      <td>(Is, anyone, there, ?)</td>\n    </tr>\n    <tr>\n      <th>3</th>\n      <td>Hello</td>\n      <td>greeting</td>\n      <td>(Hello)</td>\n    </tr>\n    <tr>\n      <th>4</th>\n      <td>Good morning !</td>\n      <td>greeting</td>\n      <td>(Good, morning, !)</td>\n    </tr>\n    <tr>\n      <th>...</th>\n      <td>...</td>\n      <td>...</td>\n      <td>...</td>\n    </tr>\n    <tr>\n      <th>240</th>\n      <td>Thank you for your care.</td>\n      <td>gratitude</td>\n      <td>(Thank, you, for, your, care, .)</td>\n    </tr>\n    <tr>\n      <th>241</th>\n      <td>Thank you for being my friend.</td>\n      <td>gratitude</td>\n      <td>(Thank, you, for, being, my, friend, .)</td>\n    </tr>\n    <tr>\n      <th>242</th>\n      <td>Thank you for everything.</td>\n      <td>gratitude</td>\n      <td>(Thank, you, for, everything, .)</td>\n    </tr>\n    <tr>\n      <th>243</th>\n      <td>You are the best!</td>\n      <td>gratitude</td>\n      <td>(You, are, the, best, !)</td>\n    </tr>\n    <tr>\n      <th>244</th>\n      <td>I really appreciate you!</td>\n      <td>gratitude</td>\n      <td>(I, really, appreciate, you, !)</td>\n    </tr>\n  </tbody>\n</table>\n<p>277 rows × 3 columns</p>\n</div>"
     },
     "execution_count": 26,
     "metadata": {},
     "output_type": "execute_result"
    }
   ],
   "source": [
    "df"
   ],
   "metadata": {
    "collapsed": false
   }
  },
  {
   "cell_type": "markdown",
   "source": [
    "# Data preparation\n",
    "\n",
    "In this section, we create different training datasets, processing them using SpaCy and our helper functions :\n",
    "\n",
    "- `X_train` is a pandas Series made of all preprocessed sentence\n",
    "- `X_train_embedded` pandas Series, each sentence is a list of embeddings\n",
    "- `X_train_embedded_avg` panda Series, each sentence is the average of each of its words' embedding (using the sum would give embeddings of different magnitude depending of the sentence's length)\n",
    "- `X_train_embedded_avg_tfidf` The previous average is weighted using TF-IDF coefficient (trained on ngrams of 1 token)"
   ],
   "metadata": {
    "collapsed": false
   }
  },
  {
   "cell_type": "code",
   "execution_count": 71,
   "outputs": [],
   "source": [
    "train, test = train_test_split(df, test_size=0.3)\n",
    "\n",
    "X_train = train[\"doc\"].reset_index(drop=True)\n",
    "y_train = train[\"intent\"].reset_index(drop=True)\n",
    "\n",
    "X_test = test[\"doc\"].reset_index(drop=True)\n",
    "y_test = test[\"intent\"].reset_index(drop=True)\n",
    "\n",
    "X_train_embedded = train[\"doc\"].apply(process_text, args=(\"embed\", True,))\n",
    "X_train_embedded_avg = X_train_embedded.apply(np.mean, axis=0).apply(pd.Series)\n",
    "\n",
    "X_test_embedded = test[\"doc\"].apply(process_text, args=(\"embed\", True,))\n",
    "X_test_embedded_avg = X_test_embedded.apply(np.mean, axis=0).apply(pd.Series)"
   ],
   "metadata": {
    "collapsed": false
   }
  },
  {
   "cell_type": "code",
   "execution_count": null,
   "outputs": [],
   "source": [
    "# The following code block construct a sentence representation as the average of all embeddings of the words in it, weighted by their tfidf score\n",
    "# This is not practical in our chatbot : using word embeddings is one way of mitigating the small dataset size, as words close in meaning should have similar embeddings\n",
    "# Weighing by tf-idf score would \"delete\" unknown world from the vocabulary, which we do not want\n",
    "\n",
    "vectorizer = TfidfVectorizer(ngram_range=(1, 1), lowercase=False, tokenizer=tokenize_text, max_features=10000)\n",
    "X_train_tfidf = vectorizer.fit_transform(X_train) # Maybe not ? Bias, vocab for test in vect // But that would be dumb to not use the vocab for the final one // BEST : Only do vocab on X_train, but if tfidf selected train final on FULL dataset\n",
    "weighted_averages = []\n",
    "for (idxRow, sentence) in X_train.items():\n",
    "    sum_embeddings = 0\n",
    "    for idxWord, word in enumerate(sentence):\n",
    "        try:\n",
    "            tfidf_idx = vectorizer.vocabulary_[word]\n",
    "        except(KeyError):\n",
    "            continue\n",
    "        sum_embeddings += (X_train_tfidf.toarray())[idxRow][tfidf_idx] * X_train_embedded.iloc[idxRow][idxWord]\n",
    "    weighted_averages.append(sum_embeddings/len(sentence))\n",
    "\n",
    "X_train_embedded_avg_tfidf = pd.Series(weighted_averages).apply(pd.Series)\n",
    "\n",
    "X_test_tfidf = vectorizer.transform(X_test)\n",
    "weighted_averages = []\n",
    "for (idxRow, sentence) in X_test.items():\n",
    "    sum_embeddings = 0\n",
    "    for idxWord, word in enumerate(sentence):\n",
    "        try:\n",
    "            tfidf_idx = vectorizer.vocabulary_[word]\n",
    "        except(KeyError):\n",
    "            continue\n",
    "        sum_embeddings += (X_test_tfidf.toarray())[idxRow][tfidf_idx] * X_test_embedded.iloc[idxRow][idxWord]\n",
    "    weighted_averages.append(sum_embeddings/len(sentence))\n",
    "\n",
    "X_test_embedded_avg_tfidf = pd.Series(weighted_averages).apply(pd.Series)"
   ],
   "metadata": {
    "collapsed": false
   }
  },
  {
   "cell_type": "markdown",
   "source": [
    "TODO : Explain alternatives (sense2vec, Doc2vec)"
   ],
   "metadata": {
    "collapsed": false
   }
  },
  {
   "cell_type": "markdown",
   "source": [
    "# Classic ML\n",
    "\n",
    "Our first approach to create our classifier is to use traditional ML algorithms.\n",
    "\n",
    "We will use several algorithms and 3 different approach to represent our training data :\n",
    "\n",
    "- A classic TF-IDF representation (with or without IDF, which is equivalent to a bag-of-words approach)\n",
    "- A \"sentence2vec\" (or s2v) approach, where a sentence is the average of its words' embedding.\n",
    "- A TF-IDF weighted average of word embeddings, s2v_tfidf"
   ],
   "metadata": {
    "collapsed": false
   }
  },
  {
   "cell_type": "markdown",
   "source": [
    "## Models preparation\n",
    "\n",
    "We use the sklearn implementation of GridSearchCV, which optimises the parameters of an estimator (here, our classifiers) by cross-validated grid-search over a parameter grid.\n",
    "We select different algorithms, define a pipeline and a set of parameters for each of those.\n",
    "The use of the pipeline allows us to select the best parameters for the TF-IDF vectorization.\n",
    "\n",
    "The size of our dataset does not contrains us in the choice of the algorithm, as training time is not a concern (No need to swap SVC for LinearSVC or SGDClassifier, for example)\n",
    "\n",
    "GridSearchCV uses K-fold as the cross-validation method. Here, we used 5-fold stratified K-fold.\n",
    "\n",
    "List parameters for clf and vectorizer ?"
   ],
   "metadata": {
    "collapsed": false
   }
  },
  {
   "cell_type": "markdown",
   "source": [
    "Below are defined the models and their corresponding hyperparameters to tune for the TF-IDF approach"
   ],
   "metadata": {
    "collapsed": false
   }
  },
  {
   "cell_type": "code",
   "execution_count": 29,
   "outputs": [],
   "source": [
    "vect = TfidfVectorizer(lowercase=False, tokenizer=lemmatize_text, max_features=3000)\n",
    "\n",
    "gs_dict_tfidf = defaultdict(dict)\n",
    "\n",
    "dectree = tree.DecisionTreeClassifier() # CART\n",
    "svm_clf = svm.SVC()\n",
    "multi_nb = naive_bayes.MultinomialNB() # Not suitable for negative values (thus not suitable for word embeddings)\n",
    "log_reg = LogisticRegression()\n",
    "random_forest = RandomForestClassifier()\n",
    "skboost = GradientBoostingClassifier()\n",
    "\n",
    "gs_dict_tfidf['dectree']['pipeline'] = Pipeline([\n",
    "    ('vect', vect),\n",
    "    ('dectree', dectree)])\n",
    "gs_dict_tfidf['svm_clf']['pipeline'] = Pipeline([\n",
    "    ('vect', vect),\n",
    "    ('svm_clf', svm_clf)])\n",
    "gs_dict_tfidf['multi_nb']['pipeline'] = Pipeline([\n",
    "    ('vect', vect),\n",
    "    ('multi_nb', multi_nb)])\n",
    "gs_dict_tfidf['log_reg']['pipeline'] = Pipeline([\n",
    "    ('vect', vect),\n",
    "    ('log_reg', log_reg)])\n",
    "gs_dict_tfidf['random_forest']['pipeline'] = Pipeline([\n",
    "    ('vect', vect),\n",
    "    ('random_forest', random_forest)])\n",
    "gs_dict_tfidf['skboost']['pipeline'] = Pipeline([\n",
    "    ('vect', vect),\n",
    "    ('skboost', skboost)])\n",
    "\n",
    "gs_dict_tfidf['dectree']['params'] = {\n",
    "    \"dectree__max_depth\": [4, 40],\n",
    "    \"vect__ngram_range\": ((1, 1), (1, 2), (1,3), (1,4)),\n",
    "    \"vect__use_idf\": (True, False),\n",
    "    \"vect__binary\": (True, False),\n",
    "}\n",
    "gs_dict_tfidf['svm_clf']['params'] = {\n",
    "    \"svm_clf__kernel\": [\"linear\", \"rbf\"],\n",
    "    \"vect__ngram_range\": ((1, 1), (1, 2), (1,3), (1,4)),\n",
    "    \"vect__use_idf\": (True, False),\n",
    "    \"vect__binary\": (True, False),\n",
    "}\n",
    "gs_dict_tfidf['multi_nb']['params'] = {\n",
    "    \"multi_nb__alpha\": [0.00001, 0.0001, 0.001, 0.1, 1, 10, 100,1000],\n",
    "    \"vect__ngram_range\": ((1, 1), (1, 2), (1,3), (1,4)),\n",
    "    \"vect__use_idf\": (True, False),\n",
    "    \"vect__binary\": (True, False),\n",
    "}\n",
    "gs_dict_tfidf['log_reg']['params'] = {\n",
    "    \"vect__ngram_range\": ((1, 1), (1, 2), (1,3), (1,4)),\n",
    "    \"vect__use_idf\": (True, False),\n",
    "    \"vect__binary\": (True, False),\n",
    "}\n",
    "gs_dict_tfidf['random_forest']['params'] = {\n",
    "    \"vect__ngram_range\": ((1, 1), (1, 2), (1,3), (1,4)),\n",
    "    \"vect__use_idf\": (True, False),\n",
    "    \"vect__binary\": (True, False),\n",
    "}\n",
    "gs_dict_tfidf['skboost']['params'] = {\n",
    "    \"vect__ngram_range\": ((1, 1), (1, 2), (1,3), (1,4)),\n",
    "    \"vect__use_idf\": (True, False),\n",
    "    \"vect__binary\": (True, False),\n",
    "}"
   ],
   "metadata": {
    "collapsed": false
   }
  },
  {
   "cell_type": "markdown",
   "source": [
    "Below are defined the models to be used with the two embeddings approaches"
   ],
   "metadata": {
    "collapsed": false
   }
  },
  {
   "cell_type": "code",
   "execution_count": 30,
   "outputs": [],
   "source": [
    "gs_dict_embeddings = defaultdict(dict)\n",
    "# classifiers to use\n",
    "dectree = tree.DecisionTreeClassifier()\n",
    "svm_clf = svm.SVC()\n",
    "\n",
    "gs_dict_embeddings['dectree']['pipeline'] = Pipeline([\n",
    "    ('dectree', dectree)])\n",
    "gs_dict_embeddings['svm_clf']['pipeline'] = Pipeline([\n",
    "    ('svm_clf', svm_clf)])\n",
    "gs_dict_embeddings['log_reg']['pipeline'] = Pipeline([\n",
    "    ('log_reg', log_reg)])\n",
    "gs_dict_embeddings['random_forest']['pipeline'] = Pipeline([\n",
    "    ('random_forest', random_forest)])\n",
    "gs_dict_embeddings['skboost']['pipeline'] = Pipeline([\n",
    "    ('skboost', skboost)])\n",
    "\n",
    "gs_dict_embeddings['dectree']['params'] = {\n",
    "    \"dectree__max_depth\": [4, 10],\n",
    "}\n",
    "gs_dict_embeddings['svm_clf']['params'] = {\n",
    "    \"svm_clf__kernel\": [\"linear\", \"rbf\"],\n",
    "}\n",
    "gs_dict_embeddings['log_reg']['params'] = {\n",
    "\n",
    "}\n",
    "gs_dict_embeddings['random_forest']['params'] = {\n",
    "\n",
    "}\n",
    "gs_dict_embeddings['skboost']['params'] = {\n",
    "\n",
    "}"
   ],
   "metadata": {
    "collapsed": false
   }
  },
  {
   "cell_type": "markdown",
   "source": [
    "## Model Selection"
   ],
   "metadata": {
    "collapsed": false
   }
  },
  {
   "cell_type": "code",
   "execution_count": 31,
   "outputs": [],
   "source": [
    "# Helper functions\n",
    "\n",
    "def perform_grid_search(X_train, y_train, pipeline, parameters, scoring):\n",
    "    gs_clf = GridSearchCV(pipeline, parameters, n_jobs=1, verbose=1, cv=3, scoring=scoring) # Issue when n_jobs = -1 OR > 1\n",
    "    # I believe this may be because we use a custom tokenizer in TfidfVectorizer(), can't find how to solve it\n",
    "    print(\"\\n------------------------------------------------------------------------\\n\")\n",
    "    print(\"pipeline:\", [name for name, _ in pipeline.steps])\n",
    "    print(\"parameters:\")\n",
    "    pprint(parameters)\n",
    "\n",
    "    t0 = time()\n",
    "\n",
    "    gs_clf.fit(X_train, y_train)\n",
    "\n",
    "    print(\"\\nDone in %0.3fs\" % (time() - t0))\n",
    "    print()\n",
    "\n",
    "    print(\"Best score: %0.3f\" % gs_clf.best_score_)\n",
    "    print(\"Best parameters set:\")\n",
    "    best_parameters = gs_clf.best_estimator_.get_params()\n",
    "    for param_name in sorted(parameters.keys()):\n",
    "        print(f\"\\t'{param_name}': '{best_parameters[param_name]}'\")\n",
    "    return gs_clf\n",
    "\n",
    "def best_estimator_per_clf(X_train, y_train, gs_dict: defaultdict, scoring):\n",
    "    for clf in dict(gs_dict):\n",
    "        gs_dict[clf]['gs'] = perform_grid_search(\n",
    "            X_train,\n",
    "            y_train,\n",
    "            gs_dict[clf]['pipeline'],\n",
    "            gs_dict[clf]['params'],\n",
    "            scoring\n",
    "        )"
   ],
   "metadata": {
    "collapsed": false
   }
  },
  {
   "cell_type": "code",
   "execution_count": 32,
   "outputs": [
    {
     "name": "stdout",
     "output_type": "stream",
     "text": [
      "\n",
      "------------------------------------------------------------------------\n",
      "\n",
      "pipeline: ['vect', 'dectree']\n",
      "parameters:\n",
      "{'dectree__max_depth': [4, 40],\n",
      " 'vect__binary': (True, False),\n",
      " 'vect__ngram_range': ((1, 1), (1, 2), (1, 3), (1, 4)),\n",
      " 'vect__use_idf': (True, False)}\n",
      "Fitting 3 folds for each of 32 candidates, totalling 96 fits\n",
      "\n",
      "Done in 0.584s\n",
      "\n",
      "Best score: 0.777\n",
      "Best parameters set:\n",
      "\t'dectree__max_depth': '40'\n",
      "\t'vect__binary': 'False'\n",
      "\t'vect__ngram_range': '(1, 2)'\n",
      "\t'vect__use_idf': 'True'\n",
      "\n",
      "------------------------------------------------------------------------\n",
      "\n",
      "pipeline: ['vect', 'svm_clf']\n",
      "parameters:\n",
      "{'svm_clf__kernel': ['linear', 'rbf'],\n",
      " 'vect__binary': (True, False),\n",
      " 'vect__ngram_range': ((1, 1), (1, 2), (1, 3), (1, 4)),\n",
      " 'vect__use_idf': (True, False)}\n",
      "Fitting 3 folds for each of 32 candidates, totalling 96 fits\n",
      "\n",
      "Done in 1.129s\n",
      "\n",
      "Best score: 0.839\n",
      "Best parameters set:\n",
      "\t'svm_clf__kernel': 'linear'\n",
      "\t'vect__binary': 'True'\n",
      "\t'vect__ngram_range': '(1, 2)'\n",
      "\t'vect__use_idf': 'True'\n",
      "\n",
      "------------------------------------------------------------------------\n",
      "\n",
      "pipeline: ['vect', 'multi_nb']\n",
      "parameters:\n",
      "{'multi_nb__alpha': [1e-05, 0.0001, 0.001, 0.1, 1, 10, 100, 1000],\n",
      " 'vect__binary': (True, False),\n",
      " 'vect__ngram_range': ((1, 1), (1, 2), (1, 3), (1, 4)),\n",
      " 'vect__use_idf': (True, False)}\n",
      "Fitting 3 folds for each of 128 candidates, totalling 384 fits\n",
      "\n",
      "Done in 2.059s\n",
      "\n",
      "Best score: 0.787\n",
      "Best parameters set:\n",
      "\t'multi_nb__alpha': '1e-05'\n",
      "\t'vect__binary': 'True'\n",
      "\t'vect__ngram_range': '(1, 2)'\n",
      "\t'vect__use_idf': 'True'\n",
      "\n",
      "------------------------------------------------------------------------\n",
      "\n",
      "pipeline: ['vect', 'log_reg']\n",
      "parameters:\n",
      "{'vect__binary': (True, False),\n",
      " 'vect__ngram_range': ((1, 1), (1, 2), (1, 3), (1, 4)),\n",
      " 'vect__use_idf': (True, False)}\n",
      "Fitting 3 folds for each of 16 candidates, totalling 48 fits\n",
      "\n",
      "Done in 1.163s\n",
      "\n",
      "Best score: 0.824\n",
      "Best parameters set:\n",
      "\t'vect__binary': 'True'\n",
      "\t'vect__ngram_range': '(1, 2)'\n",
      "\t'vect__use_idf': 'False'\n",
      "\n",
      "------------------------------------------------------------------------\n",
      "\n",
      "pipeline: ['vect', 'random_forest']\n",
      "parameters:\n",
      "{'vect__binary': (True, False),\n",
      " 'vect__ngram_range': ((1, 1), (1, 2), (1, 3), (1, 4)),\n",
      " 'vect__use_idf': (True, False)}\n",
      "Fitting 3 folds for each of 16 candidates, totalling 48 fits\n",
      "\n",
      "Done in 5.219s\n",
      "\n",
      "Best score: 0.839\n",
      "Best parameters set:\n",
      "\t'vect__binary': 'True'\n",
      "\t'vect__ngram_range': '(1, 2)'\n",
      "\t'vect__use_idf': 'True'\n",
      "\n",
      "------------------------------------------------------------------------\n",
      "\n",
      "pipeline: ['vect', 'skboost']\n",
      "parameters:\n",
      "{'vect__binary': (True, False),\n",
      " 'vect__ngram_range': ((1, 1), (1, 2), (1, 3), (1, 4)),\n",
      " 'vect__use_idf': (True, False)}\n",
      "Fitting 3 folds for each of 16 candidates, totalling 48 fits\n",
      "\n",
      "Done in 31.772s\n",
      "\n",
      "Best score: 0.829\n",
      "Best parameters set:\n",
      "\t'vect__binary': 'True'\n",
      "\t'vect__ngram_range': '(1, 3)'\n",
      "\t'vect__use_idf': 'False'\n",
      "\n",
      "------------------------------------------------------------------------\n",
      "\n",
      "pipeline: ['dectree']\n",
      "parameters:\n",
      "{'dectree__max_depth': [4, 10]}\n",
      "Fitting 3 folds for each of 2 candidates, totalling 6 fits\n",
      "\n",
      "Done in 0.114s\n",
      "\n",
      "Best score: 0.611\n",
      "Best parameters set:\n",
      "\t'dectree__max_depth': '10'\n",
      "\n",
      "------------------------------------------------------------------------\n",
      "\n",
      "pipeline: ['svm_clf']\n",
      "parameters:\n",
      "{'svm_clf__kernel': ['linear', 'rbf']}\n",
      "Fitting 3 folds for each of 2 candidates, totalling 6 fits\n",
      "\n",
      "Done in 0.053s\n",
      "\n",
      "Best score: 0.886\n",
      "Best parameters set:\n",
      "\t'svm_clf__kernel': 'linear'\n",
      "\n",
      "------------------------------------------------------------------------\n",
      "\n",
      "pipeline: ['log_reg']\n",
      "parameters:\n",
      "{}\n",
      "Fitting 3 folds for each of 1 candidates, totalling 3 fits\n"
     ]
    },
    {
     "name": "stderr",
     "output_type": "stream",
     "text": [
      "/home/matthieu/miniconda3/envs/chatbot-sdia/lib/python3.9/site-packages/sklearn/linear_model/_logistic.py:444: ConvergenceWarning: lbfgs failed to converge (status=1):\n",
      "STOP: TOTAL NO. of ITERATIONS REACHED LIMIT.\n",
      "\n",
      "Increase the number of iterations (max_iter) or scale the data as shown in:\n",
      "    https://scikit-learn.org/stable/modules/preprocessing.html\n",
      "Please also refer to the documentation for alternative solver options:\n",
      "    https://scikit-learn.org/stable/modules/linear_model.html#logistic-regression\n",
      "  n_iter_i = _check_optimize_result(\n",
      "/home/matthieu/miniconda3/envs/chatbot-sdia/lib/python3.9/site-packages/sklearn/linear_model/_logistic.py:444: ConvergenceWarning: lbfgs failed to converge (status=1):\n",
      "STOP: TOTAL NO. of ITERATIONS REACHED LIMIT.\n",
      "\n",
      "Increase the number of iterations (max_iter) or scale the data as shown in:\n",
      "    https://scikit-learn.org/stable/modules/preprocessing.html\n",
      "Please also refer to the documentation for alternative solver options:\n",
      "    https://scikit-learn.org/stable/modules/linear_model.html#logistic-regression\n",
      "  n_iter_i = _check_optimize_result(\n",
      "/home/matthieu/miniconda3/envs/chatbot-sdia/lib/python3.9/site-packages/sklearn/linear_model/_logistic.py:444: ConvergenceWarning: lbfgs failed to converge (status=1):\n",
      "STOP: TOTAL NO. of ITERATIONS REACHED LIMIT.\n",
      "\n",
      "Increase the number of iterations (max_iter) or scale the data as shown in:\n",
      "    https://scikit-learn.org/stable/modules/preprocessing.html\n",
      "Please also refer to the documentation for alternative solver options:\n",
      "    https://scikit-learn.org/stable/modules/linear_model.html#logistic-regression\n",
      "  n_iter_i = _check_optimize_result(\n",
      "/home/matthieu/miniconda3/envs/chatbot-sdia/lib/python3.9/site-packages/sklearn/linear_model/_logistic.py:444: ConvergenceWarning: lbfgs failed to converge (status=1):\n",
      "STOP: TOTAL NO. of ITERATIONS REACHED LIMIT.\n",
      "\n",
      "Increase the number of iterations (max_iter) or scale the data as shown in:\n",
      "    https://scikit-learn.org/stable/modules/preprocessing.html\n",
      "Please also refer to the documentation for alternative solver options:\n",
      "    https://scikit-learn.org/stable/modules/linear_model.html#logistic-regression\n",
      "  n_iter_i = _check_optimize_result(\n"
     ]
    },
    {
     "name": "stdout",
     "output_type": "stream",
     "text": [
      "\n",
      "Done in 0.165s\n",
      "\n",
      "Best score: 0.875\n",
      "Best parameters set:\n",
      "\n",
      "------------------------------------------------------------------------\n",
      "\n",
      "pipeline: ['random_forest']\n",
      "parameters:\n",
      "{}\n",
      "Fitting 3 folds for each of 1 candidates, totalling 3 fits\n",
      "\n",
      "Done in 0.588s\n",
      "\n",
      "Best score: 0.855\n",
      "Best parameters set:\n",
      "\n",
      "------------------------------------------------------------------------\n",
      "\n",
      "pipeline: ['skboost']\n",
      "parameters:\n",
      "{}\n",
      "Fitting 3 folds for each of 1 candidates, totalling 3 fits\n",
      "\n",
      "Done in 21.703s\n",
      "\n",
      "Best score: 0.699\n",
      "Best parameters set:\n"
     ]
    }
   ],
   "source": [
    "best_estimator_per_clf(X_train, y_train, gs_dict_tfidf, scoring=\"accuracy\")\n",
    "best_estimator_per_clf(X_train_embedded_avg, y_train, gs_dict_embeddings, scoring=\"accuracy\")\n",
    "\n",
    "# TODO : Use random state in gsCV and XGBoost for reporductibility\n",
    "\n",
    "# TODO : implement multiple scoring : https://scikit-learn.org/stable/auto_examples/model_selection/plot_multi_metric_evaluation.html#sphx-glr-auto-examples-model-selection-plot-multi-metric-evaluation-py\n",
    "\n",
    "# TODO : extract metrics https://scikit-learn.org/stable/auto_examples/model_selection/plot_multi_metric_evaluation.html#sphx-glr-auto-examples-model-selection-plot-multi-metric-evaluation-py"
   ],
   "metadata": {
    "collapsed": false
   }
  },
  {
   "cell_type": "code",
   "execution_count": 122,
   "outputs": [
    {
     "name": "stdout",
     "output_type": "stream",
     "text": [
      "---------------------------------------------------------\n",
      "TF-IDF\n",
      "dectree - TF-IDF\n",
      "\n",
      "accuracy 0.9166666666666666\n",
      "                  precision    recall  f1-score   support\n",
      "\n",
      "           about       1.00      0.82      0.90        11\n",
      "  check_schedule       1.00      1.00      1.00         6\n",
      "       complaint       0.92      1.00      0.96        11\n",
      "         goodbye       0.86      1.00      0.92        12\n",
      "       gratitude       1.00      0.94      0.97        18\n",
      "        greeting       0.67      0.75      0.71         8\n",
      "            help       0.88      0.88      0.88         8\n",
      "printing_request       1.00      0.90      0.95        10\n",
      "\n",
      "        accuracy                           0.92        84\n",
      "       macro avg       0.91      0.91      0.91        84\n",
      "    weighted avg       0.93      0.92      0.92        84\n",
      "\n",
      "---------------------------------------------------------\n",
      "svm_clf - TF-IDF\n",
      "\n",
      "accuracy 0.9523809523809523\n",
      "                  precision    recall  f1-score   support\n",
      "\n",
      "           about       1.00      1.00      1.00        11\n",
      "  check_schedule       1.00      1.00      1.00         6\n",
      "       complaint       1.00      1.00      1.00        11\n",
      "         goodbye       0.86      1.00      0.92        12\n",
      "       gratitude       1.00      0.94      0.97        18\n",
      "        greeting       0.86      0.75      0.80         8\n",
      "            help       0.89      1.00      0.94         8\n",
      "printing_request       1.00      0.90      0.95        10\n",
      "\n",
      "        accuracy                           0.95        84\n",
      "       macro avg       0.95      0.95      0.95        84\n",
      "    weighted avg       0.96      0.95      0.95        84\n",
      "\n",
      "---------------------------------------------------------\n",
      "multi_nb - TF-IDF\n",
      "\n",
      "accuracy 0.9523809523809523\n",
      "                  precision    recall  f1-score   support\n",
      "\n",
      "           about       0.92      1.00      0.96        11\n",
      "  check_schedule       1.00      1.00      1.00         6\n",
      "       complaint       0.92      1.00      0.96        11\n",
      "         goodbye       0.92      0.92      0.92        12\n",
      "       gratitude       1.00      0.94      0.97        18\n",
      "        greeting       0.88      0.88      0.88         8\n",
      "            help       1.00      1.00      1.00         8\n",
      "printing_request       1.00      0.90      0.95        10\n",
      "\n",
      "        accuracy                           0.95        84\n",
      "       macro avg       0.95      0.95      0.95        84\n",
      "    weighted avg       0.95      0.95      0.95        84\n",
      "\n",
      "---------------------------------------------------------\n",
      "log_reg - TF-IDF\n",
      "\n",
      "accuracy 0.8809523809523809\n",
      "                  precision    recall  f1-score   support\n",
      "\n",
      "           about       1.00      1.00      1.00        11\n",
      "  check_schedule       1.00      1.00      1.00         6\n",
      "       complaint       0.65      1.00      0.79        11\n",
      "         goodbye       0.86      1.00      0.92        12\n",
      "       gratitude       1.00      0.94      0.97        18\n",
      "        greeting       0.83      0.62      0.71         8\n",
      "            help       0.80      0.50      0.62         8\n",
      "printing_request       1.00      0.80      0.89        10\n",
      "\n",
      "        accuracy                           0.88        84\n",
      "       macro avg       0.89      0.86      0.86        84\n",
      "    weighted avg       0.90      0.88      0.88        84\n",
      "\n",
      "---------------------------------------------------------\n",
      "random_forest - TF-IDF\n",
      "\n",
      "accuracy 0.9285714285714286\n",
      "                  precision    recall  f1-score   support\n",
      "\n",
      "           about       1.00      1.00      1.00        11\n",
      "  check_schedule       1.00      1.00      1.00         6\n",
      "       complaint       0.85      1.00      0.92        11\n",
      "         goodbye       0.86      1.00      0.92        12\n",
      "       gratitude       1.00      0.94      0.97        18\n",
      "        greeting       0.86      0.75      0.80         8\n",
      "            help       0.86      0.75      0.80         8\n",
      "printing_request       1.00      0.90      0.95        10\n",
      "\n",
      "        accuracy                           0.93        84\n",
      "       macro avg       0.93      0.92      0.92        84\n",
      "    weighted avg       0.93      0.93      0.93        84\n",
      "\n",
      "---------------------------------------------------------\n",
      "skboost - TF-IDF\n",
      "\n",
      "accuracy 0.9404761904761905\n",
      "                  precision    recall  f1-score   support\n",
      "\n",
      "           about       1.00      1.00      1.00        11\n",
      "  check_schedule       1.00      1.00      1.00         6\n",
      "       complaint       1.00      1.00      1.00        11\n",
      "         goodbye       0.86      1.00      0.92        12\n",
      "       gratitude       1.00      0.89      0.94        18\n",
      "        greeting       0.86      0.75      0.80         8\n",
      "            help       0.80      1.00      0.89         8\n",
      "printing_request       1.00      0.90      0.95        10\n",
      "\n",
      "        accuracy                           0.94        84\n",
      "       macro avg       0.94      0.94      0.94        84\n",
      "    weighted avg       0.95      0.94      0.94        84\n",
      "\n",
      "---------------------------------------------------------\n",
      "\n",
      "EMBEDDINGS AVERAGED\n",
      "\n",
      "---------------------------------------------------------\n",
      "dectree - Embeddings averaged\n",
      "\n",
      "accuracy 0.9404761904761905\n",
      "                  precision    recall  f1-score   support\n",
      "\n",
      "           about       1.00      0.91      0.95        11\n",
      "  check_schedule       1.00      1.00      1.00         6\n",
      "       complaint       0.92      1.00      0.96        11\n",
      "         goodbye       1.00      1.00      1.00        12\n",
      "       gratitude       0.85      0.94      0.89        18\n",
      "        greeting       1.00      0.88      0.93         8\n",
      "            help       0.86      0.75      0.80         8\n",
      "printing_request       1.00      1.00      1.00        10\n",
      "\n",
      "        accuracy                           0.94        84\n",
      "       macro avg       0.95      0.93      0.94        84\n",
      "    weighted avg       0.94      0.94      0.94        84\n",
      "\n",
      "---------------------------------------------------------\n",
      "svm_clf - Embeddings averaged\n",
      "\n",
      "accuracy 0.9642857142857143\n",
      "                  precision    recall  f1-score   support\n",
      "\n",
      "           about       0.92      1.00      0.96        11\n",
      "  check_schedule       1.00      1.00      1.00         6\n",
      "       complaint       1.00      1.00      1.00        11\n",
      "         goodbye       0.92      1.00      0.96        12\n",
      "       gratitude       1.00      0.94      0.97        18\n",
      "        greeting       0.88      0.88      0.88         8\n",
      "            help       1.00      1.00      1.00         8\n",
      "printing_request       1.00      0.90      0.95        10\n",
      "\n",
      "        accuracy                           0.96        84\n",
      "       macro avg       0.96      0.96      0.96        84\n",
      "    weighted avg       0.97      0.96      0.96        84\n",
      "\n",
      "---------------------------------------------------------\n",
      "log_reg - Embeddings averaged\n",
      "\n",
      "accuracy 0.9523809523809523\n",
      "                  precision    recall  f1-score   support\n",
      "\n",
      "           about       0.92      1.00      0.96        11\n",
      "  check_schedule       1.00      1.00      1.00         6\n",
      "       complaint       0.92      1.00      0.96        11\n",
      "         goodbye       0.92      1.00      0.96        12\n",
      "       gratitude       1.00      0.94      0.97        18\n",
      "        greeting       0.86      0.75      0.80         8\n",
      "            help       1.00      0.88      0.93         8\n",
      "printing_request       1.00      1.00      1.00        10\n",
      "\n",
      "        accuracy                           0.95        84\n",
      "       macro avg       0.95      0.95      0.95        84\n",
      "    weighted avg       0.95      0.95      0.95        84\n",
      "\n",
      "---------------------------------------------------------\n",
      "random_forest - Embeddings averaged\n",
      "\n",
      "accuracy 0.9761904761904762\n",
      "                  precision    recall  f1-score   support\n",
      "\n",
      "           about       1.00      1.00      1.00        11\n",
      "  check_schedule       1.00      1.00      1.00         6\n",
      "       complaint       1.00      1.00      1.00        11\n",
      "         goodbye       0.92      1.00      0.96        12\n",
      "       gratitude       1.00      1.00      1.00        18\n",
      "        greeting       1.00      0.88      0.93         8\n",
      "            help       0.89      1.00      0.94         8\n",
      "printing_request       1.00      0.90      0.95        10\n",
      "\n",
      "        accuracy                           0.98        84\n",
      "       macro avg       0.98      0.97      0.97        84\n",
      "    weighted avg       0.98      0.98      0.98        84\n",
      "\n",
      "---------------------------------------------------------\n",
      "skboost - Embeddings averaged\n",
      "\n",
      "accuracy 0.9523809523809523\n",
      "                  precision    recall  f1-score   support\n",
      "\n",
      "           about       1.00      1.00      1.00        11\n",
      "  check_schedule       1.00      1.00      1.00         6\n",
      "       complaint       0.92      1.00      0.96        11\n",
      "         goodbye       1.00      0.92      0.96        12\n",
      "       gratitude       1.00      0.94      0.97        18\n",
      "        greeting       0.70      0.88      0.78         8\n",
      "            help       1.00      1.00      1.00         8\n",
      "printing_request       1.00      0.90      0.95        10\n",
      "\n",
      "        accuracy                           0.95        84\n",
      "       macro avg       0.95      0.95      0.95        84\n",
      "    weighted avg       0.96      0.95      0.95        84\n",
      "\n",
      "---------------------------------------------------------\n"
     ]
    }
   ],
   "source": [
    "from sklearn.metrics import accuracy_score, classification_report\n",
    "\n",
    "print(\"---------------------------------------------------------\")\n",
    "print(\"TF-IDF\")\n",
    "for clf in dict(gs_dict_tfidf):\n",
    "    print(f\"{clf} - TF-IDF\\n\")\n",
    "    y_pred = gs_dict_tfidf[clf]['gs'].predict(X_test)\n",
    "\n",
    "    print('accuracy %s' % accuracy_score(y_pred, y_test))\n",
    "    print(classification_report(y_test, y_pred))\n",
    "    print(\"---------------------------------------------------------\")\n",
    "print(\"\\nEMBEDDINGS AVERAGED\")\n",
    "print(\"\\n---------------------------------------------------------\")\n",
    "\n",
    "for clf in dict(gs_dict_embeddings):\n",
    "    print(f\"{clf} - Embeddings averaged\\n\")\n",
    "    y_pred = gs_dict_embeddings[clf]['gs'].predict(X_test_embedded_avg)\n",
    "\n",
    "    print('accuracy %s' % accuracy_score(y_pred, y_test))\n",
    "    print(classification_report(y_test, y_pred))\n",
    "    print(\"---------------------------------------------------------\")"
   ],
   "metadata": {
    "collapsed": false
   }
  },
  {
   "cell_type": "code",
   "execution_count": null,
   "outputs": [],
   "source": [
    "best_estimator_per_clf(X_train_embedded_avg, y_train, gs_dict_embeddings, scoring=\"accuracy\")"
   ],
   "metadata": {
    "collapsed": false
   }
  },
  {
   "cell_type": "code",
   "execution_count": null,
   "outputs": [],
   "source": [
    "test = sum(process_text(nlp(\"I want to print 76 page of a document\"), mode=\"embed\"))"
   ],
   "metadata": {
    "collapsed": false
   }
  },
  {
   "cell_type": "code",
   "execution_count": null,
   "outputs": [],
   "source": [
    "model = gs_dict_embeddings['svm_clf']['gs'].best_estimator_\n",
    "model.predict([test])"
   ],
   "metadata": {
    "collapsed": false
   }
  },
  {
   "cell_type": "markdown",
   "source": [
    "# Neural networks"
   ],
   "metadata": {
    "collapsed": false
   }
  },
  {
   "cell_type": "markdown",
   "source": [
    "## Model preparation"
   ],
   "metadata": {
    "collapsed": false
   }
  },
  {
   "cell_type": "markdown",
   "source": [
    "## Model selection"
   ],
   "metadata": {
    "collapsed": false
   }
  },
  {
   "cell_type": "markdown",
   "source": [
    "idea : skew text classification if name entities are found (either by multiple channels NN or by adding a feature to the data passed)"
   ],
   "metadata": {
    "collapsed": false
   }
  },
  {
   "cell_type": "code",
   "execution_count": 33,
   "outputs": [
    {
     "data": {
      "text/plain": "684830"
     },
     "execution_count": 33,
     "metadata": {},
     "output_type": "execute_result"
    }
   ],
   "source": [
    "# LSTM : https://www.tensorflow.org/text/tutorials/text_classification_rnn\n",
    "len(nlp.vocab.vectors.keys())"
   ],
   "metadata": {
    "collapsed": false
   }
  },
  {
   "cell_type": "code",
   "execution_count": 72,
   "outputs": [],
   "source": [
    "import tensorflow as tf\n",
    "\n",
    "max_words = 30 # Max number of words in a sentence\n",
    "\n",
    "raw_inputs = X_train_embedded\n",
    "padded_inputs = tf.keras.preprocessing.sequence.pad_sequences(\n",
    "    X_train_embedded,\n",
    "    maxlen=max_words,\n",
    "    padding=\"pre\",\n",
    "    truncating=\"pre\",\n",
    "    dtype=\"float32\",\n",
    ")"
   ],
   "metadata": {
    "collapsed": false
   }
  },
  {
   "cell_type": "code",
   "execution_count": null,
   "outputs": [],
   "source": [
    "padded_inputs.shape"
   ],
   "metadata": {
    "collapsed": false
   }
  },
  {
   "cell_type": "code",
   "execution_count": 103,
   "outputs": [
    {
     "name": "stdout",
     "output_type": "stream",
     "text": [
      "Model: \"sequential_42\"\n",
      "_________________________________________________________________\n",
      " Layer (type)                Output Shape              Param #   \n",
      "=================================================================\n",
      " masking_16 (Masking)        (None, None, 300)         0         \n",
      "                                                                 \n",
      " lstm_16 (LSTM)              (None, 128)               219648    \n",
      "                                                                 \n",
      " dense_68 (Dense)            (None, 8)                 1032      \n",
      "                                                                 \n",
      "=================================================================\n",
      "Total params: 220,680\n",
      "Trainable params: 220,680\n",
      "Non-trainable params: 0\n",
      "_________________________________________________________________\n",
      "None\n",
      "Epoch 1/10\n",
      "5/5 [==============================] - 5s 322ms/step - loss: 1.8995 - accuracy: 0.3630 - val_loss: 1.7495 - val_accuracy: 0.4655\n",
      "Epoch 2/10\n",
      "5/5 [==============================] - 0s 102ms/step - loss: 1.4867 - accuracy: 0.5778 - val_loss: 1.5193 - val_accuracy: 0.5172\n",
      "Epoch 3/10\n",
      "5/5 [==============================] - 0s 85ms/step - loss: 1.1592 - accuracy: 0.7037 - val_loss: 1.2608 - val_accuracy: 0.6207\n",
      "Epoch 4/10\n",
      "5/5 [==============================] - 1s 115ms/step - loss: 0.8748 - accuracy: 0.7630 - val_loss: 1.0526 - val_accuracy: 0.6552\n",
      "Epoch 5/10\n",
      "5/5 [==============================] - 1s 121ms/step - loss: 0.6739 - accuracy: 0.8074 - val_loss: 0.9024 - val_accuracy: 0.7241\n",
      "Epoch 6/10\n",
      "5/5 [==============================] - 1s 124ms/step - loss: 0.5349 - accuracy: 0.8519 - val_loss: 0.7787 - val_accuracy: 0.7759\n",
      "Epoch 7/10\n",
      "5/5 [==============================] - 1s 114ms/step - loss: 0.4115 - accuracy: 0.9185 - val_loss: 0.6877 - val_accuracy: 0.8793\n",
      "Epoch 8/10\n",
      "5/5 [==============================] - 1s 123ms/step - loss: 0.3211 - accuracy: 0.9630 - val_loss: 0.6158 - val_accuracy: 0.8966\n",
      "Epoch 9/10\n",
      "5/5 [==============================] - 1s 150ms/step - loss: 0.2653 - accuracy: 0.9778 - val_loss: 0.5526 - val_accuracy: 0.8621\n",
      "Epoch 10/10\n",
      "5/5 [==============================] - 1s 101ms/step - loss: 0.2049 - accuracy: 0.9852 - val_loss: 0.5232 - val_accuracy: 0.8621\n"
     ]
    }
   ],
   "source": [
    "from keras.models import Sequential\n",
    "from keras.layers import LSTM\n",
    "from keras.layers import Dense, Input, Masking\n",
    "import tensorflow as tf\n",
    "from sklearn.preprocessing import LabelEncoder\n",
    "\n",
    "le = LabelEncoder()\n",
    "y_encoded = le.fit_transform(y_train)\n",
    "number_classes = len(y_train.unique())\n",
    "\n",
    "model=Sequential()\n",
    "#model.add(Embedding(vocab_size,300,input_length=max_words))\n",
    "model.add(Masking(mask_value=0, input_shape=(None, 300)))\n",
    "model.add(LSTM(units=128,\n",
    "               return_sequences=False,\n",
    "               input_shape=(None, 300)\n",
    "               ))\n",
    "model.add(Dense(number_classes, activation='softmax'))\n",
    "\n",
    "print(model.summary())\n",
    "model.compile(loss='sparse_categorical_crossentropy', optimizer='adam', metrics=['accuracy'])\n",
    "\n",
    "history = model.fit(tf.convert_to_tensor(padded_inputs), y_encoded, epochs=10, validation_split=0.3)"
   ],
   "metadata": {
    "collapsed": false
   }
  },
  {
   "cell_type": "code",
   "execution_count": 99,
   "outputs": [
    {
     "name": "stdout",
     "output_type": "stream",
     "text": [
      "WARNING:tensorflow:5 out of the last 26 calls to <function Model.make_predict_function.<locals>.predict_function at 0x7fa65715bca0> triggered tf.function retracing. Tracing is expensive and the excessive number of tracings could be due to (1) creating @tf.function repeatedly in a loop, (2) passing tensors with different shapes, (3) passing Python objects instead of tensors. For (1), please define your @tf.function outside of the loop. For (2), @tf.function has experimental_relax_shapes=True option that relaxes argument shapes that can avoid unnecessary retracing. For (3), please refer to https://www.tensorflow.org/guide/function#controlling_retracing and https://www.tensorflow.org/api_docs/python/tf/function for  more details.\n"
     ]
    }
   ],
   "source": [
    "padded_test_inputs = tf.keras.preprocessing.sequence.pad_sequences(\n",
    "    X_test_embedded,\n",
    "    maxlen=max_words,\n",
    "    padding=\"pre\",\n",
    "    truncating=\"pre\",\n",
    "    dtype=\"float32\",\n",
    ")\n",
    "y_pred = np.argmax(model.predict(tf.convert_to_tensor(padded_test_inputs)), axis=1)"
   ],
   "metadata": {
    "collapsed": false
   }
  },
  {
   "cell_type": "code",
   "execution_count": 54,
   "outputs": [
    {
     "name": "stdout",
     "output_type": "stream",
     "text": [
      "3/3 [==============================] - 1s 58ms/step - loss: 0.3272 - accuracy: 0.8929\n"
     ]
    },
    {
     "data": {
      "text/plain": "[0.3271803557872772, 0.8928571343421936]"
     },
     "execution_count": 54,
     "metadata": {},
     "output_type": "execute_result"
    }
   ],
   "source": [
    "model.evaluate(x=tf.convert_to_tensor(padded_test_inputs), y=le.transform(y_test))"
   ],
   "metadata": {
    "collapsed": false
   }
  },
  {
   "cell_type": "code",
   "execution_count": 47,
   "outputs": [
    {
     "data": {
      "text/plain": "0.8928571428571429"
     },
     "execution_count": 47,
     "metadata": {},
     "output_type": "execute_result"
    }
   ],
   "source": [
    "from sklearn.metrics import accuracy_score\n",
    "accuracy = accuracy_score(le.transform(y_test), y_pred)\n",
    "accuracy"
   ],
   "metadata": {
    "collapsed": false
   }
  },
  {
   "cell_type": "code",
   "execution_count": 50,
   "outputs": [
    {
     "data": {
      "text/plain": "array(['check_schedule'], dtype=object)"
     },
     "execution_count": 50,
     "metadata": {},
     "output_type": "execute_result"
    }
   ],
   "source": [
    "test = process_text(\"I would like to see the planning\", mode=\"embed\", preprocessed=False)\n",
    "predict = model.predict(np.asarray([test]))\n",
    "predicted_class = np.argmax(predict)\n",
    "predicted_class = le.inverse_transform([predicted_class])\n",
    "predicted_class"
   ],
   "metadata": {
    "collapsed": false
   }
  },
  {
   "cell_type": "code",
   "execution_count": null,
   "outputs": [],
   "source": [
    "# Makes no sense to train LSTM / CNN on Tf-Idf : They preserve spatial / temporal information, but that information is lost with tfidf\n",
    "# Does not play to their strength, not more relevant than a classic classifier"
   ],
   "metadata": {
    "collapsed": false
   }
  },
  {
   "cell_type": "code",
   "execution_count": 94,
   "outputs": [
    {
     "data": {
      "text/plain": "<Figure size 640x480 with 1 Axes>",
      "image/png": "[encoded data removed]"
     },
     "metadata": {},
     "output_type": "display_data"
    }
   ],
   "source": [
    "# Helper function\n",
    "\n",
    "import matplotlib.pyplot as plt\n",
    "\n",
    "def plot_graphs(history, metric):\n",
    "  plt.plot(history.history[metric])\n",
    "  plt.plot(history.history['val_'+metric], '')\n",
    "  plt.xlabel(\"Epochs\")\n",
    "  plt.ylabel(metric)\n",
    "  plt.legend([metric, 'val_'+metric])\n",
    "\n",
    "plot_graphs(history, \"loss\")"
   ],
   "metadata": {
    "collapsed": false
   }
  },
  {
   "cell_type": "code",
   "execution_count": 101,
   "outputs": [
    {
     "name": "stdout",
     "output_type": "stream",
     "text": [
      "Epoch 1/15\n",
      "5/5 [==============================] - 1s 78ms/step - loss: 1.9262 - accuracy: 0.2593 - val_loss: 1.8057 - val_accuracy: 0.1724\n",
      "Epoch 2/15\n",
      "5/5 [==============================] - 0s 20ms/step - loss: 1.6478 - accuracy: 0.2741 - val_loss: 1.6941 - val_accuracy: 0.2759\n",
      "Epoch 3/15\n",
      "5/5 [==============================] - 0s 39ms/step - loss: 1.5068 - accuracy: 0.3778 - val_loss: 1.6007 - val_accuracy: 0.3793\n",
      "Epoch 4/15\n",
      "5/5 [==============================] - 0s 34ms/step - loss: 1.3877 - accuracy: 0.4741 - val_loss: 1.5015 - val_accuracy: 0.4310\n",
      "Epoch 5/15\n",
      "5/5 [==============================] - 0s 33ms/step - loss: 1.2600 - accuracy: 0.5185 - val_loss: 1.4150 - val_accuracy: 0.5000\n",
      "Epoch 6/15\n",
      "5/5 [==============================] - 0s 30ms/step - loss: 1.1433 - accuracy: 0.5852 - val_loss: 1.3247 - val_accuracy: 0.5345\n",
      "Epoch 7/15\n",
      "5/5 [==============================] - 0s 20ms/step - loss: 1.0682 - accuracy: 0.6222 - val_loss: 1.2898 - val_accuracy: 0.5172\n",
      "Epoch 8/15\n",
      "5/5 [==============================] - 0s 38ms/step - loss: 1.0043 - accuracy: 0.5852 - val_loss: 1.2700 - val_accuracy: 0.5345\n",
      "Epoch 9/15\n",
      "5/5 [==============================] - 0s 29ms/step - loss: 0.9605 - accuracy: 0.6296 - val_loss: 1.2176 - val_accuracy: 0.5862\n",
      "Epoch 10/15\n",
      "5/5 [==============================] - 0s 27ms/step - loss: 0.9075 - accuracy: 0.6444 - val_loss: 1.1895 - val_accuracy: 0.6034\n",
      "Epoch 11/15\n",
      "5/5 [==============================] - 0s 27ms/step - loss: 0.8593 - accuracy: 0.6667 - val_loss: 1.1954 - val_accuracy: 0.5862\n",
      "Epoch 12/15\n",
      "5/5 [==============================] - 0s 31ms/step - loss: 0.8242 - accuracy: 0.6741 - val_loss: 1.1559 - val_accuracy: 0.6207\n",
      "Epoch 13/15\n",
      "5/5 [==============================] - 0s 26ms/step - loss: 0.7819 - accuracy: 0.7407 - val_loss: 1.0901 - val_accuracy: 0.6379\n",
      "Epoch 14/15\n",
      "5/5 [==============================] - 0s 29ms/step - loss: 0.7477 - accuracy: 0.7556 - val_loss: 1.0799 - val_accuracy: 0.6552\n",
      "Epoch 15/15\n",
      "5/5 [==============================] - 0s 15ms/step - loss: 0.7123 - accuracy: 0.7481 - val_loss: 1.0633 - val_accuracy: 0.6724\n"
     ]
    }
   ],
   "source": [
    "model = Sequential([\n",
    "tf.keras.layers.Conv1D(64, 3, activation='relu'),\n",
    "tf.keras.layers.GlobalMaxPooling1D(),\n",
    "Dense(10, activation='relu'),\n",
    "Dense(number_classes, activation='softmax')])\n",
    "model.compile(loss='sparse_categorical_crossentropy',optimizer='adam',metrics=['accuracy'])\n",
    "\n",
    "history = model.fit(tf.convert_to_tensor(padded_inputs), y_encoded, epochs=15, validation_split=0.3)"
   ],
   "metadata": {
    "collapsed": false
   }
  },
  {
   "cell_type": "code",
   "execution_count": 102,
   "outputs": [
    {
     "name": "stdout",
     "output_type": "stream",
     "text": [
      "3/3 [==============================] - 0s 17ms/step - loss: 1.2400 - accuracy: 0.5952\n"
     ]
    },
    {
     "data": {
      "text/plain": "[1.2400312423706055, 0.5952380895614624]"
     },
     "execution_count": 102,
     "metadata": {},
     "output_type": "execute_result"
    }
   ],
   "source": [
    "model.evaluate(padded_test_inputs, y=le.transform(y_test))"
   ],
   "metadata": {
    "collapsed": false
   }
  },
  {
   "cell_type": "code",
   "execution_count": 82,
   "outputs": [
    {
     "name": "stderr",
     "output_type": "stream",
     "text": [
      "/tmp/ipykernel_4528/114759089.py:15: DeprecationWarning: KerasClassifier is deprecated, use Sci-Keras (https://github.com/adriangb/scikeras) instead. See https://www.adriangb.com/scikeras/stable/migration.html for help migrating.\n",
      "  model = tf.keras.wrappers.scikit_learn.KerasClassifier(build_fn=model_to_optimize,\n"
     ]
    },
    {
     "name": "stdout",
     "output_type": "stream",
     "text": [
      "Fitting 2 folds for each of 9 candidates, totalling 18 fits\n"
     ]
    }
   ],
   "source": [
    "\n",
    "\n",
    "def model_to_optimize(num_filters, kernel_size):\n",
    "    model = Sequential([\n",
    "    tf.keras.layers.Conv1D(num_filters, kernel_size, activation='relu'),\n",
    "    tf.keras.layers.GlobalMaxPooling1D(),\n",
    "    Dense(10, activation='relu'),\n",
    "    Dense(number_classes, activation='softmax')])\n",
    "    model.compile(loss='sparse_categorical_crossentropy',optimizer='adam',metrics=['accuracy'])\n",
    "    return model\n",
    "\n",
    "params = {\n",
    "    \"num_filters\":[32, 64, 128],\n",
    "    \"kernel_size\":[3, 5, 7],\n",
    "}\n",
    "\n",
    "model = tf.keras.wrappers.scikit_learn.KerasClassifier(build_fn=model_to_optimize,\n",
    "                            epochs=20,\n",
    "                           batch_size=10,\n",
    "                            verbose=False)\n",
    "\n",
    "from sklearn.model_selection import GridSearchCV\n",
    "search = GridSearchCV(estimator=model, param_grid=params,\n",
    "                              cv=2, verbose=1)\n",
    "search_result = search.fit(padded_inputs, y_encoded)"
   ],
   "metadata": {
    "collapsed": false
   }
  },
  {
   "cell_type": "code",
   "execution_count": 89,
   "outputs": [
    {
     "data": {
      "text/plain": "{'kernel_size': 3, 'num_filters': 64}"
     },
     "execution_count": 89,
     "metadata": {},
     "output_type": "execute_result"
    }
   ],
   "source": [
    "search_result.best_params_"
   ],
   "metadata": {
    "collapsed": false
   }
  },
  {
   "cell_type": "code",
   "execution_count": 83,
   "outputs": [
    {
     "data": {
      "text/plain": "   mean_fit_time  std_fit_time  mean_score_time  std_score_time  \\\n0       1.882793      0.454283         0.298693        0.015253   \n1       1.641088      0.024222         0.244344        0.042319   \n2       1.414505      0.022797         0.277051        0.042893   \n3       1.372716      0.237321         0.282250        0.001934   \n4       1.531836      0.135869         0.266720        0.014222   \n5       1.619876      0.008948         0.271923        0.003191   \n6       1.255499      0.045334         0.298526        0.054369   \n7       1.654373      0.025872         0.193702        0.041367   \n8       1.777422      0.034260         0.296066        0.010772   \n\n  param_kernel_size param_num_filters                                  params  \\\n0                 3                32   {'kernel_size': 3, 'num_filters': 32}   \n1                 3                64   {'kernel_size': 3, 'num_filters': 64}   \n2                 3               128  {'kernel_size': 3, 'num_filters': 128}   \n3                 5                32   {'kernel_size': 5, 'num_filters': 32}   \n4                 5                64   {'kernel_size': 5, 'num_filters': 64}   \n5                 5               128  {'kernel_size': 5, 'num_filters': 128}   \n6                 7                32   {'kernel_size': 7, 'num_filters': 32}   \n7                 7                64   {'kernel_size': 7, 'num_filters': 64}   \n8                 7               128  {'kernel_size': 7, 'num_filters': 128}   \n\n   split0_test_score  split1_test_score  mean_test_score  std_test_score  \\\n0           0.824742           0.770833         0.797788        0.026954   \n1           0.886598           0.854167         0.870382        0.016216   \n2           0.855670           0.833333         0.844502        0.011168   \n3           0.752577           0.802083         0.777330        0.024753   \n4           0.762887           0.875000         0.818943        0.056057   \n5           0.835052           0.875000         0.855026        0.019974   \n6           0.597938           0.729167         0.663552        0.065614   \n7           0.762887           0.822917         0.792902        0.030015   \n8           0.804124           0.770833         0.787479        0.016645   \n\n   rank_test_score  \n0                5  \n1                1  \n2                3  \n3                8  \n4                4  \n5                2  \n6                9  \n7                6  \n8                7  ",
      "text/html": "<div>\n<style scoped>\n    .dataframe tbody tr th:only-of-type {\n        vertical-align: middle;\n    }\n\n    .dataframe tbody tr th {\n        vertical-align: top;\n    }\n\n    .dataframe thead th {\n        text-align: right;\n    }\n</style>\n<table border=\"1\" class=\"dataframe\">\n  <thead>\n    <tr style=\"text-align: right;\">\n      <th></th>\n      <th>mean_fit_time</th>\n      <th>std_fit_time</th>\n      <th>mean_score_time</th>\n      <th>std_score_time</th>\n      <th>param_kernel_size</th>\n      <th>param_num_filters</th>\n      <th>params</th>\n      <th>split0_test_score</th>\n      <th>split1_test_score</th>\n      <th>mean_test_score</th>\n      <th>std_test_score</th>\n      <th>rank_test_score</th>\n    </tr>\n  </thead>\n  <tbody>\n    <tr>\n      <th>0</th>\n      <td>1.882793</td>\n      <td>0.454283</td>\n      <td>0.298693</td>\n      <td>0.015253</td>\n      <td>3</td>\n      <td>32</td>\n      <td>{'kernel_size': 3, 'num_filters': 32}</td>\n      <td>0.824742</td>\n      <td>0.770833</td>\n      <td>0.797788</td>\n      <td>0.026954</td>\n      <td>5</td>\n    </tr>\n    <tr>\n      <th>1</th>\n      <td>1.641088</td>\n      <td>0.024222</td>\n      <td>0.244344</td>\n      <td>0.042319</td>\n      <td>3</td>\n      <td>64</td>\n      <td>{'kernel_size': 3, 'num_filters': 64}</td>\n      <td>0.886598</td>\n      <td>0.854167</td>\n      <td>0.870382</td>\n      <td>0.016216</td>\n      <td>1</td>\n    </tr>\n    <tr>\n      <th>2</th>\n      <td>1.414505</td>\n      <td>0.022797</td>\n      <td>0.277051</td>\n      <td>0.042893</td>\n      <td>3</td>\n      <td>128</td>\n      <td>{'kernel_size': 3, 'num_filters': 128}</td>\n      <td>0.855670</td>\n      <td>0.833333</td>\n      <td>0.844502</td>\n      <td>0.011168</td>\n      <td>3</td>\n    </tr>\n    <tr>\n      <th>3</th>\n      <td>1.372716</td>\n      <td>0.237321</td>\n      <td>0.282250</td>\n      <td>0.001934</td>\n      <td>5</td>\n      <td>32</td>\n      <td>{'kernel_size': 5, 'num_filters': 32}</td>\n      <td>0.752577</td>\n      <td>0.802083</td>\n      <td>0.777330</td>\n      <td>0.024753</td>\n      <td>8</td>\n    </tr>\n    <tr>\n      <th>4</th>\n      <td>1.531836</td>\n      <td>0.135869</td>\n      <td>0.266720</td>\n      <td>0.014222</td>\n      <td>5</td>\n      <td>64</td>\n      <td>{'kernel_size': 5, 'num_filters': 64}</td>\n      <td>0.762887</td>\n      <td>0.875000</td>\n      <td>0.818943</td>\n      <td>0.056057</td>\n      <td>4</td>\n    </tr>\n    <tr>\n      <th>5</th>\n      <td>1.619876</td>\n      <td>0.008948</td>\n      <td>0.271923</td>\n      <td>0.003191</td>\n      <td>5</td>\n      <td>128</td>\n      <td>{'kernel_size': 5, 'num_filters': 128}</td>\n      <td>0.835052</td>\n      <td>0.875000</td>\n      <td>0.855026</td>\n      <td>0.019974</td>\n      <td>2</td>\n    </tr>\n    <tr>\n      <th>6</th>\n      <td>1.255499</td>\n      <td>0.045334</td>\n      <td>0.298526</td>\n      <td>0.054369</td>\n      <td>7</td>\n      <td>32</td>\n      <td>{'kernel_size': 7, 'num_filters': 32}</td>\n      <td>0.597938</td>\n      <td>0.729167</td>\n      <td>0.663552</td>\n      <td>0.065614</td>\n      <td>9</td>\n    </tr>\n    <tr>\n      <th>7</th>\n      <td>1.654373</td>\n      <td>0.025872</td>\n      <td>0.193702</td>\n      <td>0.041367</td>\n      <td>7</td>\n      <td>64</td>\n      <td>{'kernel_size': 7, 'num_filters': 64}</td>\n      <td>0.762887</td>\n      <td>0.822917</td>\n      <td>0.792902</td>\n      <td>0.030015</td>\n      <td>6</td>\n    </tr>\n    <tr>\n      <th>8</th>\n      <td>1.777422</td>\n      <td>0.034260</td>\n      <td>0.296066</td>\n      <td>0.010772</td>\n      <td>7</td>\n      <td>128</td>\n      <td>{'kernel_size': 7, 'num_filters': 128}</td>\n      <td>0.804124</td>\n      <td>0.770833</td>\n      <td>0.787479</td>\n      <td>0.016645</td>\n      <td>7</td>\n    </tr>\n  </tbody>\n</table>\n</div>"
     },
     "execution_count": 83,
     "metadata": {},
     "output_type": "execute_result"
    }
   ],
   "source": [
    "search_result.best_params_\n",
    "pd.DataFrame(search.cv_results_)"
   ],
   "metadata": {
    "collapsed": false
   }
  },
  {
   "cell_type": "code",
   "execution_count": null,
   "outputs": [],
   "source": [
    "from sklearn import model_selection\n",
    "import tensorflow as tf\n",
    "from keras.layers import TextVectorization\n",
    "from keras.layers import Embedding\n",
    "from keras import layers\n",
    "\n",
    "max_words = 30 # Max number of words in a sentence\n",
    "\n",
    "raw_inputs = X_train_embedded\n",
    "padded_inputs = tf.keras.preprocessing.sequence.pad_sequences(\n",
    "    X_train_embedded,\n",
    "    maxlen=max_words,\n",
    "    padding=\"pre\",\n",
    "    truncating=\"pre\",\n",
    "    dtype=\"float32\",\n",
    ")\n",
    "\n",
    "# Affichage des scores moyens par pli\n",
    "print('---------------------------------------------------------------------')\n",
    "print('Scores par pli')\n",
    "for i in range(0, len(acc_per_fold)):\n",
    "  print('---------------------------------------------------------------------')\n",
    "  print(f'> Pli {i+1} - Loss: {loss_per_fold[i]:.2f}',\n",
    "        f'- Accuracy: {acc_per_fold[i]:.2f}%')\n",
    "print('---------------------------------------------------------------------')\n",
    "print('Scores moyens pour tous les plis :')\n",
    "print(f'> Accuracy: {np.mean(acc_per_fold):.2f}',\n",
    "      f'(+- {np.std(acc_per_fold):.2f})')\n",
    "print(f'> Loss: {np.mean(loss_per_fold):.2f}')\n",
    "print('---------------------------------------------------------------------')"
   ],
   "metadata": {
    "collapsed": false
   }
  },
  {
   "cell_type": "code",
   "execution_count": null,
   "outputs": [],
   "source": [
    "accuracy_data = []\n",
    "loss_data = []\n",
    "for i, h in enumerate(histories):\n",
    "  acc = h.history['acc']\n",
    "  val_acc = h.history['val_acc']\n",
    "  loss = h.history['loss']\n",
    "  val_loss = h.history['val_loss']\n",
    "  for j in range(len(acc)):\n",
    "    accuracy_data.append([i+1, j+1, acc[j], 'Entraînement'])\n",
    "    accuracy_data.append([i+1, j+1, val_acc[j], 'Validation'])\n",
    "    loss_data.append([i+1, j+1, loss[j], 'Entraînement'])\n",
    "    loss_data.append([i+1, j+1, val_loss[j], 'Validation'])\n",
    "\n",
    "acc_df = pd.DataFrame(accuracy_data,\n",
    "                      columns=['Pli', 'Epoch', 'Accuracy', 'Données'])\n",
    "sns.relplot(data=acc_df, x='Epoch', y='Accuracy', hue='Pli', style='Données',\n",
    "            kind='line')\n",
    "\n",
    "loss_df = pd.DataFrame(loss_data, columns=['Pli', 'Epoch', 'Perte', 'Données'])\n",
    "sns.relplot(data=loss_df, x='Epoch', y='Perte', hue='Pli', style='Données',\n",
    "            kind='line')"
   ],
   "metadata": {
    "collapsed": false
   }
  },
  {
   "cell_type": "code",
   "execution_count": null,
   "outputs": [],
   "source": [
    "# Use party one to implement a CNN"
   ],
   "metadata": {
    "collapsed": false
   }
  },
  {
   "cell_type": "code",
   "execution_count": null,
   "outputs": [],
   "source": [
    "# Tes with matrix embedding based solely on my vocab or on the whole spacy vocab"
   ],
   "metadata": {
    "collapsed": false
   }
  },
  {
   "cell_type": "markdown",
   "source": [
    "TODO : Once data has been generated, apply vizualization techniques found in partie 1 to it !"
   ],
   "metadata": {
    "collapsed": false
   }
  }
 ],
 "metadata": {
  "kernelspec": {
   "display_name": "Python 3",
   "language": "python",
   "name": "python3"
  },
  "language_info": {
   "codemirror_mode": {
    "name": "ipython",
    "version": 2
   },
   "file_extension": ".py",
   "mimetype": "text/x-python",
   "name": "python",
   "nbconvert_exporter": "python",
   "pygments_lexer": "ipython2",
   "version": "2.7.6"
  }
 },
 "nbformat": 4,
 "nbformat_minor": 0
}
